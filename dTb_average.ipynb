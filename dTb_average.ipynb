{
 "cells": [
  {
   "cell_type": "code",
   "execution_count": 160,
   "id": "8eadc436-cc9b-4bb2-8419-0df1792470d0",
   "metadata": {},
   "outputs": [],
   "source": [
    "import ares\n",
    "import matplotlib.pyplot as plt\n",
    "import numpy as np\n",
    "import time"
   ]
  },
  {
   "cell_type": "code",
   "execution_count": 164,
   "id": "6be23c62-56fb-4dc5-9494-132d9ef8ca1c",
   "metadata": {},
   "outputs": [],
   "source": [
    "pf = \\\n",
    "    {\n",
    "    'radiative_transfer':False,\n",
    "    'verbose':False,\n",
    "    'dark_matter_heating':True, \n",
    "    'include_cgm':False, \n",
    "    # 'initial_v_stream':0, \n",
    "    'initial_redshift':1010, \n",
    "    'include_He':True\n",
    "    }\n",
    "\n",
    "V_rms = 29000 # m/s\n",
    "\n",
    "N = 20 # number of initial_v_stream\n",
    "N_z = 100\n",
    "\n",
    "initial_v_stream_list = np.random.normal(0, V_rms, N)\n",
    "initial_v_stream_list = abs(initial_v_stream_list)\n",
    "sim_dict = {initial_v_stream:0 for initial_v_stream in initial_v_stream_list}\n",
    "\n",
    "z_array = np.linspace(6, 300, N_z)\n",
    "dTb_dict = {initial_v_stream:0 for initial_v_stream in initial_v_stream_list}"
   ]
  },
  {
   "cell_type": "code",
   "execution_count": null,
   "id": "4a8b6a8a-8721-4126-a3db-cd9e6ef0909c",
   "metadata": {},
   "outputs": [
    {
     "name": "stdout",
     "output_type": "stream",
     "text": [
      "initial_v_stream = 38788.26140105371 m/s\n",
      "initial_v_stream = 52160.09239265051 m/s\n",
      "initial_v_stream = 15508.841670243446 m/s\n",
      "initial_v_stream = 14491.566847896149 m/s\n",
      "initial_v_stream = 12335.114370919177 m/s\n",
      "initial_v_stream = 4845.044945977595 m/s\n"
     ]
    }
   ],
   "source": [
    "start_time = time.time()\n",
    "\n",
    "for i, initial_v_stream in enumerate(initial_v_stream_list):\n",
    "    print(\"initial_v_stream =\", initial_v_stream, 'm/s')\n",
    "    sim_dict[initial_v_stream] = ares.simulations.Global21cm(initial_v_stream = initial_v_stream, **pf)\n",
    "    sim = sim_dict[initial_v_stream]\n",
    "    sim.run()\n",
    "    \n",
    "    dTb_dict[initial_v_stream] = np.interp(z_array, sim.history['z'][::-1], sim.history['dTb'][::-1])\n",
    "    # sim_dict[initial_v_stream].save()\n",
    "\n",
    "end_time = time.time()\n",
    "time_elapse = end_time - start_time\n",
    "print(\"It costs {} seconds to average {} different initial_v_stream.\".format(time_elapse, N))"
   ]
  },
  {
   "cell_type": "code",
   "execution_count": null,
   "id": "c49b0e9f-45b1-409d-994c-d33e5b334eac",
   "metadata": {},
   "outputs": [],
   "source": [
    "dTb_average = np.average(list(dTb_dict.values()), axis=0)\n",
    "\n",
    "plt.plot(1+z_array, dTb_average, label=r'$m_{\\chi} = 0.1$ GeV')#, label=r'DM, $V{\\chi b,0}=$'+'{:.0f}m/s'.format(sim.pf['initial_v_stream']))\n",
    "plt.title(\"averaged global 21 cm signal vs. redshift\")\n",
    "plt.xlabel(\"z\")\n",
    "plt.ylabel(r\"$T_{21}$ (mK)\")\n",
    "plt.xlim(0, 300)\n",
    "plt.ylim(-60, 0)\n",
    "plt.legend()\n",
    "plt.show()"
   ]
  },
  {
   "cell_type": "code",
   "execution_count": null,
   "id": "67b55b46-e008-478a-9099-3cc6241a8b20",
   "metadata": {},
   "outputs": [],
   "source": [
    "# for initial_v_stream in initial_v_stream_list:\n",
    "#     sim = sim_dict[initial_v_stream]\n",
    "#     plt.plot(1+sim.history['z'], sim.history['dTb'], label=r'DM, $V{\\chi b,0}=$'+'{:.0f}m/s'.format(sim.pf['initial_v_stream']))\n",
    "# plt.title(\"global 21 cm signal vs. redshift\")\n",
    "# plt.xlabel(\"z\")\n",
    "# plt.ylabel(r\"$T_{21}$ (mK)\")\n",
    "# plt.xlim(0, 300)\n",
    "# plt.ylim(-60, 0)\n",
    "# plt.legend()\n",
    "# plt.show()"
   ]
  },
  {
   "cell_type": "code",
   "execution_count": null,
   "id": "0beec0cb-58fa-4388-ac12-aac461af4522",
   "metadata": {},
   "outputs": [],
   "source": []
  },
  {
   "cell_type": "code",
   "execution_count": null,
   "id": "7f489a58-4020-4f51-b807-1e4abdeab679",
   "metadata": {},
   "outputs": [],
   "source": []
  }
 ],
 "metadata": {
  "kernelspec": {
   "display_name": "Python 3 (ipykernel)",
   "language": "python",
   "name": "python3"
  },
  "language_info": {
   "codemirror_mode": {
    "name": "ipython",
    "version": 3
   },
   "file_extension": ".py",
   "mimetype": "text/x-python",
   "name": "python",
   "nbconvert_exporter": "python",
   "pygments_lexer": "ipython3",
   "version": "3.9.13"
  }
 },
 "nbformat": 4,
 "nbformat_minor": 5
}
