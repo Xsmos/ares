{
 "cells": [
  {
   "attachments": {},
   "cell_type": "markdown",
   "metadata": {},
   "source": [
    "# ARES\n",
    "The Accelerated Reionization Era Simulations ([`ARES`](https://ares.readthedocs.io/en/latest/index.html)) code was designed to rapidly generate models for the global 21-cm signal.\n",
    "\n",
    "Based on [Muñoz et al., 2015](https://journals.aps.org/prd/abstract/10.1103/PhysRevD.92.083528), we added `ares/physics/DarkMatterHeating.py` to the original ARES to discuss the heating of baryons due to scattering with dark matter during the dark ages.\n",
    "\n",
    "Following is a documentation about using `fit_param.py` to fit dark matter mass, `m_chi`, and the R.M.S. of streaming velocity, `V_rms`, between dark matter and gas, given 21-cm temperature signals, `dTb`, and the correponding redshifts, `z`.\n",
    "\n",
    "Be warned: this code is still under active development – use at your own risk! Correctness of results is not guaranteed.\n",
    "\n",
    "## Citation\n",
    "If you use this code in paper please reference [TBD]() if it’s an application of fitting dark matter mass and R.M.S. of streaming velocity.\n",
    "\n",
    "## Dependencies\n",
    "You will need:\n",
    "- numpy\n",
    "- scipy\n",
    "- matplotlib\n",
    "- h5py\n",
    "## Getting started\n",
    "To clone a copy and install:\n",
    "```\n",
    "git clone https://github.com/Xsmos/ares.git\n",
    "cd ares\n",
    "python setup.py install\n",
    "```\n",
    "`ares` will look in `ares/input` for lookup tables of various kinds. To download said lookup tables, run\n",
    "```\n",
    "python remote.py\n",
    "```\n",
    "Check out the original [**ares**](https://ares.readthedocs.io/en/latest/install.html) for more details about installing the lookup tables."
   ]
  },
  {
   "attachments": {},
   "cell_type": "markdown",
   "metadata": {},
   "source": [
    "## Parameters:\n",
    "- `z_sample`: a 1-D array of redshifts.\n",
    "- `dTb_sample`: a 2-D array of brightness temperatures in unit of `mK`. `dTb_sample.shape[1]` must be equal to `z_sample.shape[0]`.\n",
    "- `param_guess`: the initial guess for the parameters `[m_chi, V_rms]` in units of `GeV` and `m/s`, respectively. Default is `[0.1, 29000]`.\n",
    "- `cores`: number of CPUs to calculate the `dTb`s for different initial streaming velocites. Default is 1.\n",
    "- `average_dir`: name of the directory to save the averaged dTb's. Default is `'dTb_averaged'`.\n",
    "- `save_name`: name of the file to save the fitting results. Default is `'m_chi-V_rms.npy'`.\n",
    "- `N_v_streams`: number of initial streaming velocities to be generated equally-spaced between `[0, 3*V_rms]` in order to calculate the averaged global `dTb`. Default is 12.\n",
    "- `verbose`: 0 for showing the final fitting results only, 1 for including intermediate results of the fitting process.\n",
    "\n",
    "## Example:"
   ]
  },
  {
   "cell_type": "code",
   "execution_count": 1,
   "metadata": {},
   "outputs": [
    {
     "name": "stdout",
     "output_type": "stream",
     "text": [
      "24 v_streams will be generated for m_chi = 0.2 GeV and V_rms = 35000 m/s...\n",
      "Sampling 24 dTb's by 24 CPUs parallelly...\n",
      "It costs 0:00:19.554383 to calculate dTb of 24 different initial_v_streams by 24 CPUs.\n",
      "---------------------------------------------\n",
      "Fitting starts...\n",
      "#1 , fit: [2.07083799e-01 3.47149618e+04] , success: True , status: 3 , cost 0:06:00.919568\n",
      "#2 , fit: [2.09126604e-01 3.45066825e+04] , success: True , status: 3 , cost 0:05:45.757399\n",
      "#3 , fit: [2.10960453e-01 3.44715031e+04] , success: True , status: 3 , cost 0:05:36.308962\n",
      "#4 , fit: [1.89178235e-01 3.54385886e+04] , success: True , status: 3 , cost 0:05:56.926076\n",
      "#5 , fit: [2.25716151e-01 3.41909029e+04] , success: True , status: 3 , cost 0:05:56.674118\n",
      "#6 , fit: [1.59560455e-01 3.68952524e+04] , success: True , status: 3 , cost 0:04:25.574639\n",
      "#7 , fit: [1.85504822e-01 3.56610400e+04] , success: True , status: 3 , cost 0:05:16.457411\n",
      "#8 , fit: [1.97176317e-01 3.49650061e+04] , success: True , status: 3 , cost 0:05:08.519290\n",
      "#9 , fit: [1.90852413e-01 3.54842130e+04] , success: True , status: 3 , cost 0:04:45.420447\n",
      "#10 , fit: [1.98315462e-01 3.50722331e+04] , success: True , status: 3 , cost 0:04:39.878316\n",
      "#11 , fit: [2.08462374e-01 3.45149254e+04] , success: True , status: 3 , cost 0:05:04.734159\n",
      "#12 , fit: [1.95610313e-01 3.52657492e+04] , success: True , status: 3 , cost 0:07:35.089865\n",
      "#13 , fit: [2.18377676e-01 3.40247846e+04] , success: True , status: 3 , cost 0:04:40.260319\n",
      "#14 , fit: [1.8205541e-01 3.6134227e+04] , success: True , status: 3 , cost 0:07:08.666373\n",
      "#15 , fit: [1.73027020e-01 3.67808227e+04] , success: True , status: 3 , cost 0:04:47.710757\n",
      "#16 , fit: [2.05874735e-01 3.45914677e+04] , success: True , status: 3 , cost 0:03:11.975042\n",
      "#17 , fit: [2.09908888e-01 3.44036894e+04] , success: True , status: 3 , cost 0:06:09.384165\n",
      "#18 , fit: [2.09246039e-01 3.42791726e+04] , success: True , status: 3 , cost 0:04:52.936794\n",
      "#19 , fit: [2.05472734e-01 3.45575429e+04] , success: True , status: 3 , cost 0:05:00.724205\n",
      "#20 , fit: [1.9365009e-01 3.5509084e+04] , success: True , status: 3 , cost 0:04:09.375997\n",
      "#21 , fit: [1.91670562e-01 3.55700966e+04] , success: True , status: 3 , cost 0:07:13.825086\n",
      "#22 , fit: [1.97698948e-01 3.48917409e+04] , success: True , status: 3 , cost 0:05:37.859136\n",
      "#23 , fit: [2.30761982e-01 3.37192080e+04] , success: True , status: 3 , cost 0:05:26.392504\n",
      "#24 , fit: [2.07340136e-01 3.45725679e+04] , success: True , status: 3 , cost 0:05:37.093843\n",
      "#25 , fit: [2.18227879e-01 3.43908597e+04] , success: True , status: 3 , cost 0:10:54.148369\n",
      "#26 , fit: [2.03044502e-01 3.48376637e+04] , success: True , status: 3 , cost 0:04:50.632895\n",
      "#27 , fit: [2.01561157e-01 3.48720407e+04] , success: True , status: 3 , cost 0:06:34.634537\n",
      "#28 , fit: [1.92041281e-01 3.53513581e+04] , success: True , status: 3 , cost 0:05:37.507589\n",
      "#29 , fit: [1.94683224e-01 3.53579037e+04] , success: True , status: 3 , cost 0:04:37.956732\n",
      "#30 , fit: [1.91742752e-01 3.51974866e+04] , success: True , status: 3 , cost 0:04:06.883215\n",
      "#31 , fit: [1.54002988e-01 3.70401629e+04] , success: True , status: 3 , cost 0:03:57.648300\n",
      "#32 , fit: [1.88582658e-01 3.50126035e+04] , success: True , status: 3 , cost 0:03:30.363546\n",
      "#33 , fit: [1.93905014e-01 3.52448247e+04] , success: True , status: 3 , cost 0:03:21.805308\n",
      "#34 , fit: [1.85721838e-01 3.57088221e+04] , success: True , status: 3 , cost 0:02:41.734315\n"
     ]
    }
   ],
   "source": [
    "import numpy as np\n",
    "from fit_param import interp_dTb, fit_param\n",
    "\n",
    "cores = 24 # number of CPU\n",
    "N_v_streams = cores\n",
    "\n",
    "# assumptions about the dark matter mass and rms stream velocity\n",
    "m_chi_true = 0.2 # GeV\n",
    "V_rms_true = 35000 # m/s\n",
    "\n",
    "z_sample = np.logspace(0, 3, 100) # redshifts corresponding to these observations\n",
    "\n",
    "noise = 1 # mK. std of the signal noise, assumed to be Gaussian and frequency-independent\n",
    "\n",
    "# sampling\n",
    "N_observations = 50 # number of observations\n",
    "dTb_accurate = interp_dTb(param=[m_chi_true, V_rms_true], z=z_sample, cores=cores, N_v_streams=N_v_streams, verbose=1)\n",
    "dTb_sample = dTb_accurate + noise * np.random.normal(size=(N_observations, z_sample.shape[0]))\n",
    "\n",
    "# fitting\n",
    "fit_result = fit_param(z_sample, dTb_sample, cores=cores, N_v_streams=N_v_streams, save_name=f\"m_chi{m_chi_true}-V_rms{V_rms_true}-.npy\", verbose=0)"
   ]
  },
  {
   "cell_type": "code",
   "execution_count": null,
   "metadata": {},
   "outputs": [
    {
     "data": {
      "image/png": "[encoded data removed]",
      "text/plain": [
       "<Figure size 600x480 with 1 Axes>"
      ]
     },
     "metadata": {},
     "output_type": "display_data"
    }
   ],
   "source": [
    "import os\n",
    "import matplotlib.pyplot as plt\n",
    "\n",
    "fig = plt.figure(dpi=120, figsize=(5,4))\n",
    "for filename in os.listdir():\n",
    "    # one assumes all .npy file in current directory have m_chi*V_rms*.npy format.\n",
    "    if \".npy\" in filename:\n",
    "        real_value = filename.split(sep=\"-\")\n",
    "        fit_data = np.load(filename)\n",
    "        fit_mean = np.mean(fit_data, axis=0)\n",
    "        plt.scatter(float(real_value[0][5:]), float(real_value[1][5:])/1000, c='k', label=\"real\", s=5)\n",
    "        plt.scatter(fit_data[:,0], fit_data[:,1]/1000, label=\"fit\", s=1)\n",
    "        plt.errorbar(fit_mean[0], fit_mean[1]/1000, xerr=np.std(fit_data[:,0]), yerr=np.std(fit_data[:,1])/1000)\n",
    "        plt.xlabel(r\"$m_{\\chi}$ [GeV]\")\n",
    "        plt.ylabel(r\"$V_{rms}$ [km/s]\")\n",
    "        plt.legend()\n",
    "        plt.show()"
   ]
  },
  {
   "cell_type": "code",
   "execution_count": null,
   "metadata": {},
   "outputs": [],
   "source": [
    "fig = plt.figure(dpi=120, figsize=(5,4))\n",
    "dTb_fit = interp_dTb(param=fit_mean, z=z_sample, cores=cores, N_v_streams=N_v_streams, verbose=1)\n",
    "plt.plot(z_sample, dTb_accurate, label='real')\n",
    "plt.plot(z_sample, dTb_fit, label='fit')\n",
    "plt.xscale('log')\n",
    "plt.xlabel('z')\n",
    "plt.ylabel('dTb [mK]')\n",
    "plt.xlim(0,300)\n",
    "plt.legend()\n",
    "plt.show()"
   ]
  }
 ],
 "metadata": {
  "kernelspec": {
   "display_name": "base",
   "language": "python",
   "name": "python3"
  },
  "language_info": {
   "codemirror_mode": {
    "name": "ipython",
    "version": 3
   },
   "file_extension": ".py",
   "mimetype": "text/x-python",
   "name": "python",
   "nbconvert_exporter": "python",
   "pygments_lexer": "ipython3",
   "version": "3.8.8"
  },
  "orig_nbformat": 4
 },
 "nbformat": 4,
 "nbformat_minor": 2
}
