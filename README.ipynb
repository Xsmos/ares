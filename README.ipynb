{
 "cells": [
  {
   "attachments": {},
   "cell_type": "markdown",
   "metadata": {},
   "source": [
    "# ARES\n",
    "This is a documentation for using `fit_param.py` to fit dark matter mass and the R.M.S. stream velocity between dark matter and gas, given the 21-cm temperature and its correponding redshift.\n",
    "\n",
    "## Technical Details\n",
    "The work is based on [Muñoz et al., 2015](https://journals.aps.org/prd/abstract/10.1103/PhysRevD.92.083528), which discussed the heating of baryons due to scattering with dark matter during the dark ages.\n",
    "\n",
    "We added `average_dTb.py` and `fit_param.py` to the original version of [`ARES`](https://ares.readthedocs.io/en/latest/index.html), which was designed to rapidly generate models for the global 21-cm signal.\n",
    "\n",
    "Be warned: this code is still under active development – use at your own risk! Correctness of results is not guaranteed.\n",
    "\n",
    "## Citation\n",
    "If you use this code in paper please reference [TBD]() if it’s an application of fitting dark matter mass and R.M.S. of stream velocity.\n",
    "\n",
    "## Dependencies\n",
    "You will need:\n",
    "- numpy\n",
    "- scipy\n",
    "- matplotlib\n",
    "- h5py\n",
    "- npy_append_array\n",
    "\n",
    "Note: `ares` has been tested only with Python 3.7.x."
   ]
  },
  {
   "attachments": {},
   "cell_type": "markdown",
   "metadata": {},
   "source": [
    "## Getting started\n",
    "To clone a copy and install:\n",
    "```\n",
    "git clone https://github.com/Xsmos/ares.git\n",
    "cd ares\n",
    "python setup.py install\n",
    "```"
   ]
  },
  {
   "attachments": {},
   "cell_type": "markdown",
   "metadata": {},
   "source": [
    "`ares` will look in `ares/input` for more lookup tables of various kinds if you want full function. To download said lookup tables, check out the original [**ares**](https://ares.readthedocs.io/en/latest/install.html) for more details about installing the lookup tables."
   ]
  },
  {
   "attachments": {},
   "cell_type": "markdown",
   "metadata": {},
   "source": [
    "## Example"
   ]
  },
  {
   "cell_type": "code",
   "execution_count": 1,
   "metadata": {},
   "outputs": [
    {
     "name": "stdout",
     "output_type": "stream",
     "text": [
      "24 v_streams will be generated for m_chi = 0.01 GeV and V_rms = 25000 m/s...\n",
      "Sampling 24 dTb's by 24 CPUs parallelly...\n",
      "It costs 0:00:09.851225 to calculate dTb of 24 different initial_v_streams by 24 CPU(s).\n",
      "---------------------------------------------\n",
      "24 v_streams will be generated for m_chi = 0.1 GeV and V_rms = 29000.0 m/s...\n",
      "Sampling 24 dTb's by 24 CPUs parallelly...\n",
      "It costs 0:00:09.907761 to calculate dTb of 24 different initial_v_streams by 24 CPU(s).\n",
      "---------------------------------------------\n",
      "24 v_streams will be generated for m_chi = 0.2 GeV and V_rms = 29000.0 m/s...\n",
      "Sampling 24 dTb's by 24 CPUs parallelly...\n",
      "It costs 0:00:08.487266 to calculate dTb of 24 different initial_v_streams by 24 CPU(s).\n",
      "---------------------------------------------\n",
      "24 v_streams will be generated for m_chi = 0.1 GeV and V_rms = 31900.0 m/s...\n",
      "Sampling 24 dTb's by 24 CPUs parallelly...\n",
      "It costs 0:00:09.264237 to calculate dTb of 24 different initial_v_streams by 24 CPU(s).\n",
      "---------------------------------------------\n",
      "24 v_streams will be generated for m_chi = 0.06147781746857301 GeV and V_rms = 23357.911257342104 m/s...\n",
      "Sampling 24 dTb's by 24 CPUs parallelly...\n",
      "It costs 0:00:09.270692 to calculate dTb of 24 different initial_v_streams by 24 CPU(s).\n",
      "---------------------------------------------\n",
      "24 v_streams will be generated for m_chi = 0.161477817468573 GeV and V_rms = 23357.911257342104 m/s...\n",
      "Sampling 24 dTb's by 24 CPUs parallelly...\n",
      "It costs 0:00:10.294674 to calculate dTb of 24 different initial_v_streams by 24 CPU(s).\n",
      "---------------------------------------------\n",
      "24 v_streams will be generated for m_chi = 0.06147781746857301 GeV and V_rms = 25693.702383076314 m/s...\n",
      "Sampling 24 dTb's by 24 CPUs parallelly...\n",
      "It costs 0:00:08.842929 to calculate dTb of 24 different initial_v_streams by 24 CPU(s).\n",
      "---------------------------------------------\n",
      "24 v_streams will be generated for m_chi = 0.030290719712758683 GeV and V_rms = 24450.48659376649 m/s...\n",
      "Sampling 24 dTb's by 24 CPUs parallelly...\n",
      "It costs 0:00:09.275871 to calculate dTb of 24 different initial_v_streams by 24 CPU(s).\n",
      "---------------------------------------------\n",
      "24 v_streams will be generated for m_chi = 0.13029071971275868 GeV and V_rms = 24450.48659376649 m/s...\n",
      "Sampling 24 dTb's by 24 CPUs parallelly...\n",
      "It costs 0:00:09.327591 to calculate dTb of 24 different initial_v_streams by 24 CPU(s).\n",
      "---------------------------------------------\n",
      "24 v_streams will be generated for m_chi = 0.030290719712758683 GeV and V_rms = 26895.53525314314 m/s...\n",
      "Sampling 24 dTb's by 24 CPUs parallelly...\n",
      "It costs 0:00:09.072773 to calculate dTb of 24 different initial_v_streams by 24 CPU(s).\n",
      "---------------------------------------------\n",
      "24 v_streams will be generated for m_chi = 0.014958571291378677 GeV and V_rms = 24973.283230590285 m/s...\n",
      "Sampling 24 dTb's by 24 CPUs parallelly...\n",
      "It costs 0:00:09.737761 to calculate dTb of 24 different initial_v_streams by 24 CPU(s).\n",
      "---------------------------------------------\n",
      "24 v_streams will be generated for m_chi = 0.11495857129137868 GeV and V_rms = 24973.283230590285 m/s...\n",
      "Sampling 24 dTb's by 24 CPUs parallelly...\n",
      "It costs 0:00:09.046099 to calculate dTb of 24 different initial_v_streams by 24 CPU(s).\n",
      "---------------------------------------------\n",
      "24 v_streams will be generated for m_chi = 0.014958571291378677 GeV and V_rms = 27470.611553649313 m/s...\n",
      "Sampling 24 dTb's by 24 CPUs parallelly...\n",
      "It costs 0:00:09.561272 to calculate dTb of 24 different initial_v_streams by 24 CPU(s).\n",
      "---------------------------------------------\n",
      "24 v_streams will be generated for m_chi = 0.008384002664448395 GeV and V_rms = 25216.70574186166 m/s...\n",
      "Sampling 24 dTb's by 24 CPUs parallelly...\n",
      "It costs 0:00:09.638658 to calculate dTb of 24 different initial_v_streams by 24 CPU(s).\n",
      "---------------------------------------------\n",
      "24 v_streams will be generated for m_chi = 0.010665948343458447 GeV and V_rms = 25034.00010846958 m/s...\n",
      "Sampling 24 dTb's by 24 CPUs parallelly...\n",
      "It costs 0:00:09.849441 to calculate dTb of 24 different initial_v_streams by 24 CPU(s).\n",
      "---------------------------------------------\n",
      "24 v_streams will be generated for m_chi = 0.11066594834345846 GeV and V_rms = 25034.00010846958 m/s...\n",
      "Sampling 24 dTb's by 24 CPUs parallelly...\n",
      "It costs 0:00:09.135193 to calculate dTb of 24 different initial_v_streams by 24 CPU(s).\n",
      "---------------------------------------------\n",
      "24 v_streams will be generated for m_chi = 0.010665948343458447 GeV and V_rms = 27537.40011931654 m/s...\n",
      "Sampling 24 dTb's by 24 CPUs parallelly...\n",
      "It costs 0:00:08.925837 to calculate dTb of 24 different initial_v_streams by 24 CPU(s).\n",
      "---------------------------------------------\n",
      "24 v_streams will be generated for m_chi = 0.0133432348391118 GeV and V_rms = 24985.87479409591 m/s...\n",
      "Sampling 24 dTb's by 24 CPUs parallelly...\n",
      "It costs 0:00:09.487222 to calculate dTb of 24 different initial_v_streams by 24 CPU(s).\n",
      "---------------------------------------------\n",
      "24 v_streams will be generated for m_chi = 0.012782990040296899 GeV and V_rms = 25021.968905563546 m/s...\n",
      "Sampling 24 dTb's by 24 CPUs parallelly..."
     ]
    }
   ],
   "source": [
    "import numpy as np\n",
    "from fit_param import interp_dTb, fit_param\n",
    "\n",
    "# assumptions about the dark matter mass and rms stream velocity\n",
    "m_chi_true = 0.01 # GeV\n",
    "V_rms_true = 25000 # m/s\n",
    "\n",
    "noise = 1 # mK. std of the signal noise, assumed to be Gaussian and frequency-independent\n",
    "\n",
    "N_observations = 5 # number of observations\n",
    "z_sample = np.arange(10, 300, 10) # redshifts corresponding to these observations\n",
    "\n",
    "# bounds? ######################################################\n",
    "cores = 24 # number of CPU\n",
    "\n",
    "# sampling\n",
    "dTb_accurate = interp_dTb(param=[m_chi_true, V_rms_true], z=z_sample, cores=cores, N_v_stream=24)\n",
    "dTb_sample = dTb_accurate + noise * np.random.normal(size=(N_observations, z_sample.shape[0]))\n",
    "\n",
    "# fitting\n",
    "fit_param(z_sample, dTb_sample, cores=cores, save_name=f\"m_chi{m_chi_true}-V_rms{V_rms_true}.npy\", N_v_streams=24)"
   ]
  },
  {
   "cell_type": "code",
   "execution_count": 43,
   "metadata": {},
   "outputs": [
    {
     "data": {
      "image/png": "[encoded data removed]",
      "text/plain": [
       "<Figure size 600x480 with 1 Axes>"
      ]
     },
     "metadata": {
      "needs_background": "light"
     },
     "output_type": "display_data"
    }
   ],
   "source": [
    "import os\n",
    "import matplotlib.pyplot as plt\n",
    "\n",
    "fig = plt.figure(dpi=120, figsize=(5,4))\n",
    "for filename in os.listdir():\n",
    "    if \".npy\" in filename:\n",
    "        real_value = filename.split(sep=\"-\")\n",
    "        fit_data = np.load(filename)\n",
    "        fit_mean = np.mean(fit_data, axis=0)\n",
    "        plt.scatter(float(real_value[0][5:]), float(real_value[1][5:-4])/1000, c='k', label=\"real\")\n",
    "        plt.scatter(fit_data[:,0], fit_data[:,1]/1000, label=\"fit\")\n",
    "        plt.errorbar(fit_mean[0], fit_mean[1]/1000, xerr=np.std(fit_data[:,0]), yerr=np.std(fit_data[:,1])/1000)\n",
    "        plt.xlabel(r\"$m_{\\chi}$ [GeV]\")\n",
    "        plt.ylabel(r\"$V_{rms}$ [km/s]\")\n",
    "        plt.legend()\n",
    "        plt.show()"
   ]
  },
  {
   "cell_type": "code",
   "execution_count": 16,
   "metadata": {},
   "outputs": [
    {
     "data": {
      "text/plain": [
       "['m_chi0.1', 'V_rms30000.npy']"
      ]
     },
     "execution_count": 16,
     "metadata": {},
     "output_type": "execute_result"
    }
   ],
   "source": [
    "real_value"
   ]
  },
  {
   "attachments": {},
   "cell_type": "markdown",
   "metadata": {},
   "source": [
    "## Useful parameters:\n",
    "- adequate_random_v_streams"
   ]
  }
 ],
 "metadata": {
  "kernelspec": {
   "display_name": "base",
   "language": "python",
   "name": "python3"
  },
  "language_info": {
   "codemirror_mode": {
    "name": "ipython",
    "version": 3
   },
   "file_extension": ".py",
   "mimetype": "text/x-python",
   "name": "python",
   "nbconvert_exporter": "python",
   "pygments_lexer": "ipython3",
   "version": "3.8.8"
  },
  "orig_nbformat": 4
 },
 "nbformat": 4,
 "nbformat_minor": 2
}
