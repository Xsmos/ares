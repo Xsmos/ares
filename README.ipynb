{
 "cells": [
  {
   "attachments": {},
   "cell_type": "markdown",
   "metadata": {},
   "source": [
    "# ARES\n",
    "This is a documentation for using `fit_param.py` to fit dark matter mass and the R.M.S. stream velocity between dark matter and gas, given the 21-cm temperature and its correponding redshift.\n",
    "\n",
    "## Technical Details\n",
    "The work is based on [Muñoz et al., 2015](https://journals.aps.org/prd/abstract/10.1103/PhysRevD.92.083528), which discussed the heating of baryons due to scattering with dark matter during the dark ages.\n",
    "\n",
    "We added `average_dTb.py` and `fit_param.py` to the original version of [`ARES`](https://ares.readthedocs.io/en/latest/index.html), which was designed to rapidly generate models for the global 21-cm signal.\n",
    "\n",
    "Be warned: this code is still under active development – use at your own risk! Correctness of results is not guaranteed.\n",
    "\n",
    "## Citation\n",
    "If you use this code in paper please reference [TBD]() if it’s an application of fitting dark matter mass and R.M.S. of stream velocity.\n",
    "\n",
    "## Dependencies\n",
    "You will need:\n",
    "- numpy\n",
    "- scipy\n",
    "- matplotlib\n",
    "- h5py\n",
    "- npy_append_array\n",
    "\n",
    "Note: `ares` has been tested only with Python 3.7.x."
   ]
  },
  {
   "attachments": {},
   "cell_type": "markdown",
   "metadata": {},
   "source": [
    "## Getting started\n",
    "To clone a copy and install:\n",
    "```\n",
    "git clone https://github.com/Xsmos/ares.git\n",
    "cd ares\n",
    "python setup.py install\n",
    "```"
   ]
  },
  {
   "attachments": {},
   "cell_type": "markdown",
   "metadata": {},
   "source": [
    "`ares` will look in `ares/input` for more lookup tables of various kinds if you want full function. To download said lookup tables, check out the original [**ares**](https://ares.readthedocs.io/en/latest/install.html) for more details about installing the lookup tables."
   ]
  },
  {
   "attachments": {},
   "cell_type": "markdown",
   "metadata": {},
   "source": [
    "## Example"
   ]
  },
  {
   "cell_type": "code",
   "execution_count": 2,
   "metadata": {},
   "outputs": [
    {
     "name": "stdout",
     "output_type": "stream",
     "text": [
      "Existing averaged dTb and z are loaded for m_chi = 0.1 GeV and V_rms = 30000 m/s.\n",
      "---------------------------------------------\n",
      "5 random v_streams will be generated for m_chi = 0.1 GeV and V_rms = 29000.0 m/s...\n",
      "1 CPU working...\n",
      "initial_v_stream = 1.0 m/s\n",
      "initial_v_stream = 21750.75 m/s\n",
      "initial_v_stream = 43500.5 m/s\n",
      "initial_v_stream = 65250.25 m/s\n",
      "initial_v_stream = 87000.0 m/s\n",
      "It costs 62.62 seconds to calculate dTb of 5 different initial_v_streams by 1 CPU(s).\n",
      "---------------------------------------------\n",
      "residual = 8.103756702607432, shape = (29,)\n",
      "5 random v_streams will be generated for m_chi = 0.11000000000000001 GeV and V_rms = 29000.0 m/s...\n",
      "1 CPU working...\n",
      "initial_v_stream = 1.0 m/s\n",
      "initial_v_stream = 21750.75 m/s\n",
      "initial_v_stream = 43500.5 m/s\n",
      "initial_v_stream = 65250.25 m/s\n",
      "initial_v_stream = 87000.0 m/s\n",
      "It costs 58.48 seconds to calculate dTb of 5 different initial_v_streams by 1 CPU(s).\n",
      "---------------------------------------------\n",
      "residual = 4.563437167596698, shape = (29,)\n",
      "5 random v_streams will be generated for m_chi = 0.1 GeV and V_rms = 31900.0 m/s...\n",
      "1 CPU working...\n",
      "initial_v_stream = 1.0 m/s\n",
      "initial_v_stream = 23925.75 m/s\n",
      "initial_v_stream = 47850.5 m/s\n",
      "initial_v_stream = 71775.25 m/s\n",
      "initial_v_stream = 95700.0 m/s\n",
      "It costs 58.37 seconds to calculate dTb of 5 different initial_v_streams by 1 CPU(s).\n",
      "---------------------------------------------\n",
      "residual = 9.580797430969367, shape = (29,)\n",
      "5 random v_streams will be generated for m_chi = 0.1018752386231365 GeV and V_rms = 30280.573926630383 m/s...\n",
      "1 CPU working...\n",
      "initial_v_stream = 1.0 m/s\n",
      "initial_v_stream = 22711.180444972786 m/s\n",
      "initial_v_stream = 45421.36088994557 m/s\n",
      "initial_v_stream = 68131.54133491835 m/s\n",
      "initial_v_stream = 90841.72177989114 m/s\n",
      "It costs 59.73 seconds to calculate dTb of 5 different initial_v_streams by 1 CPU(s).\n",
      "---------------------------------------------\n",
      "residual = 1.4761789259606506, shape = (29,)\n",
      "5 random v_streams will be generated for m_chi = 0.11206276248545015 GeV and V_rms = 30280.573926630383 m/s...\n",
      "1 CPU working...\n",
      "initial_v_stream = 1.0 m/s\n",
      "initial_v_stream = 22711.180444972786 m/s\n",
      "initial_v_stream = 45421.36088994557 m/s\n",
      "initial_v_stream = 68131.54133491835 m/s\n",
      "initial_v_stream = 90841.72177989114 m/s\n",
      "It costs 60.12 seconds to calculate dTb of 5 different initial_v_streams by 1 CPU(s).\n",
      "---------------------------------------------\n",
      "residual = 2.471767962102133, shape = (29,)\n",
      "5 random v_streams will be generated for m_chi = 0.1018752386231365 GeV and V_rms = 33308.63131929342 m/s...\n",
      "1 CPU working...\n",
      "initial_v_stream = 1.0 m/s\n",
      "initial_v_stream = 24982.223489470063 m/s\n",
      "initial_v_stream = 49963.44697894013 m/s\n",
      "initial_v_stream = 74944.67046841019 m/s\n",
      "initial_v_stream = 99925.89395788025 m/s\n",
      "It costs 59.37 seconds to calculate dTb of 5 different initial_v_streams by 1 CPU(s).\n",
      "---------------------------------------------\n",
      "residual = 21.070267958186733, shape = (29,)\n",
      "5 random v_streams will be generated for m_chi = 0.08154910148408999 GeV and V_rms = 31045.174767035172 m/s...\n",
      "1 CPU working...\n",
      "initial_v_stream = 1.0 m/s\n",
      "initial_v_stream = 23284.63107527638 m/s\n",
      "initial_v_stream = 46568.26215055276 m/s\n",
      "initial_v_stream = 69851.89322582913 m/s"
     ]
    }
   ],
   "source": [
    "import numpy as np\n",
    "from fit_param import interp_dTb, fit_param\n",
    "\n",
    "# assumptions about the dark matter mass and rms stream velocity\n",
    "m_chi_true = 0.1 # GeV\n",
    "V_rms_true = 30000 # m/s\n",
    "\n",
    "noise = 1 # mK. std of the signal noise, assumed to be Gaussian and frequency-independent\n",
    "\n",
    "N_observations = 10 # number of observations\n",
    "z_sample = np.arange(10, 300, 10) # redshifts corresponding to these observations\n",
    "\n",
    "# bounds? ######################################################\n",
    "cores = 1 # number of CPU\n",
    "\n",
    "# sampling\n",
    "dTb_accurate = interp_dTb(param=[m_chi_true, V_rms_true], z=z_sample, cores=cores, adequate_random_v_streams=5, verbose=True)\n",
    "dTb_sample = dTb_accurate + noise * np.random.normal(size=(N_observations, z_sample.shape[0]))\n",
    "\n",
    "# fitting\n",
    "fit_param(z_sample, dTb_sample, cores=cores, save_name=f\"m_chi{m_chi_true}-V_rms{V_rms_true}.npy\", adequate_random_v_streams=5, verbose=True)"
   ]
  },
  {
   "attachments": {},
   "cell_type": "markdown",
   "metadata": {},
   "source": [
    "## Useful parameters:\n",
    "- adequate_random_v_streams"
   ]
  }
 ],
 "metadata": {
  "kernelspec": {
   "display_name": "base",
   "language": "python",
   "name": "python3"
  },
  "language_info": {
   "codemirror_mode": {
    "name": "ipython",
    "version": 3
   },
   "file_extension": ".py",
   "mimetype": "text/x-python",
   "name": "python",
   "nbconvert_exporter": "python",
   "pygments_lexer": "ipython3",
   "version": "3.9.13"
  },
  "orig_nbformat": 4
 },
 "nbformat": 4,
 "nbformat_minor": 2
}
