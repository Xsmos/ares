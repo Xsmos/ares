{
 "cells": [
  {
   "cell_type": "code",
   "execution_count": null,
   "id": "8e2fe318",
   "metadata": {},
   "outputs": [],
   "source": [
    "from fit_param import test"
   ]
  },
  {
   "cell_type": "code",
   "execution_count": null,
   "id": "d390416c",
   "metadata": {},
   "outputs": [],
   "source": [
    "# case 1: dark matter mass m_chi = 0.05 GeV\n",
    "param_fits = test([0.05, 29000], cores=32, repeat=60, plot=False)"
   ]
  },
  {
   "cell_type": "code",
   "execution_count": null,
   "id": "8a93bb7f",
   "metadata": {},
   "outputs": [],
   "source": [
    "plt.figure(dpi=150)\n",
    "plt.hist2d(param_fits.T[0], param_fits.T[1], density=True)\n",
    "plt.colorbar()\n",
    "plt.plot(0.05, 29000, marker='*', c='r')\n",
    "plt.title(r\"distribution of fitting values for $m_{\\chi}$ and $V_{\\rm rms}$\")\n",
    "plt.xlabel(\"dark matter mass [GeV]\")\n",
    "plt.ylabel(\"r.m.s. of stream velocity [m/s]\")\n",
    "plt.savefig(\"hist2d\")\n",
    "plt.show()"
   ]
  },
  {
   "cell_type": "code",
   "execution_count": null,
   "id": "3828601f",
   "metadata": {},
   "outputs": [],
   "source": []
  }
 ],
 "metadata": {
  "kernelspec": {
   "display_name": "Python 3 (ipykernel)",
   "language": "python",
   "name": "python3"
  },
  "language_info": {
   "codemirror_mode": {
    "name": "ipython",
    "version": 3
   },
   "file_extension": ".py",
   "mimetype": "text/x-python",
   "name": "python",
   "nbconvert_exporter": "python",
   "pygments_lexer": "ipython3",
   "version": "3.9.12"
  }
 },
 "nbformat": 4,
 "nbformat_minor": 5
}
