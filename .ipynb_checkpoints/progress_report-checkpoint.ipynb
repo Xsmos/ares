{
 "cells": [
  {
   "cell_type": "code",
   "execution_count": 3,
   "id": "8e2fe318",
   "metadata": {},
   "outputs": [],
   "source": [
    "from fit_param import test\n",
    "import matplotlib.pyplot as plt\n",
    "import numpy as np"
   ]
  },
  {
   "cell_type": "code",
   "execution_count": null,
   "id": "511e7715",
   "metadata": {},
   "outputs": [
    {
     "name": "stdout",
     "output_type": "stream",
     "text": [
      "Existing averaged dTb and z are loaded for m_chi = 0.05 GeV and V_rms = 29000 m/s.\n",
      "---------------------------------------------\n",
      "Existing averaged dTb and z are loaded for m_chi = 0.1 GeV and V_rms = 29000.0 m/s.\n",
      "---------------------------------------------\n",
      "Existing averaged dTb and z are loaded for m_chi = 0.2 GeV and V_rms = 29000.0 m/s.\n",
      "---------------------------------------------\n",
      "64 random v_streams will be generated for m_chi = 0.1 GeV and V_rms = 31900.0 m/s...\n",
      "24 CPUs working in parallel...\n",
      "It costs 29.48 seconds to calculate dTb of 64 different initial_v_streams by 24 CPU(s).\n",
      "---------------------------------------------\n",
      "64 random v_streams will be generated for m_chi = 0.056742261617010896 GeV and V_rms = 28384.244633681115 m/s...\n",
      "24 CPUs working in parallel...\n",
      "It costs 30.15 seconds to calculate dTb of 64 different initial_v_streams by 24 CPU(s).\n",
      "---------------------------------------------\n",
      "64 random v_streams will be generated for m_chi = 0.1567422616170109 GeV and V_rms = 28384.244633681115 m/s...\n",
      "24 CPUs working in parallel...\n",
      "It costs 28.64 seconds to calculate dTb of 64 different initial_v_streams by 24 CPU(s).\n",
      "---------------------------------------------\n",
      "64 random v_streams will be generated for m_chi = 0.056742261617010896 GeV and V_rms = 31222.669097049227 m/s...\n",
      "24 CPUs working in parallel...\n",
      "It costs 30.59 seconds to calculate dTb of 64 different initial_v_streams by 24 CPU(s).\n",
      "---------------------------------------------\n",
      "64 random v_streams will be generated for m_chi = 0.0788601694950799 GeV and V_rms = 28555.314190250516 m/s...\n",
      "24 CPUs working in parallel...\n",
      "It costs 29.84 seconds to calculate dTb of 64 different initial_v_streams by 24 CPU(s).\n",
      "---------------------------------------------\n",
      "64 random v_streams will be generated for m_chi = 0.08121911101842456 GeV and V_rms = 28427.000417109804 m/s...\n",
      "24 CPUs working in parallel...\n",
      "It costs 29.64 seconds to calculate dTb of 64 different initial_v_streams by 24 CPU(s).\n",
      "---------------------------------------------\n",
      "64 random v_streams will be generated for m_chi = 0.08180949254897299 GeV and V_rms = 28394.885213302376 m/s...\n",
      "24 CPUs working in parallel...\n",
      "It costs 30.14 seconds to calculate dTb of 64 different initial_v_streams by 24 CPU(s).\n",
      "---------------------------------------------\n",
      "#1 , fit: [5.67422616e-02 2.83842446e+04] , success: True , status: 3 , cost 208.8449535369873 seconds\n",
      "------------------------------------------------------------------------------------------\n",
      "Existing averaged dTb and z are loaded for m_chi = 0.1 GeV and V_rms = 29000.0 m/s.\n",
      "---------------------------------------------\n",
      "Existing averaged dTb and z are loaded for m_chi = 0.2 GeV and V_rms = 29000.0 m/s.\n",
      "---------------------------------------------\n",
      "Existing averaged dTb and z are loaded for m_chi = 0.1 GeV and V_rms = 31900.0 m/s.\n",
      "---------------------------------------------\n",
      "64 random v_streams will be generated for m_chi = 0.06276056159481802 GeV and V_rms = 29048.05627059139 m/s...\n",
      "24 CPUs working in parallel..."
     ]
    }
   ],
   "source": [
    "param_fits = test([0.05, 29000], cores=-1, repeat=5, plot=False)\n",
    "# np.savetxt(\"param_fits.txt\", param_fits)"
   ]
  },
  {
   "cell_type": "code",
   "execution_count": null,
   "id": "8a93bb7f",
   "metadata": {},
   "outputs": [],
   "source": [
    "param_fits = np.loadtxt('param_fits.txt')\n",
    "m_chi_fit, V_rms_fit = param_fits.T\n",
    "\n",
    "plt.figure(dpi=150)\n",
    "plt.hist2d(m_chi_fit, V_rms_fit, density=True)\n",
    "plt.colorbar()\n",
    "plt.plot(0.05, 29000, marker='*', c='r', label=r\"$m_{\\chi, \\rm real} = $\")\n",
    "plt.title(r\"distribution of fitting values for $m_{\\chi}$ and $V_{\\rm rms}$\")\n",
    "plt.xlabel(\"dark matter mass [GeV]\")\n",
    "plt.ylabel(\"r.m.s. of stream velocity [m/s]\")\n",
    "plt.legend()\n",
    "# plt.xlim(0,0.5)\n",
    "# plt.ylim(25000, 32500)\n",
    "plt.savefig(\"hist2d\")\n",
    "plt.show()"
   ]
  },
  {
   "cell_type": "code",
   "execution_count": null,
   "id": "be5aedec",
   "metadata": {},
   "outputs": [],
   "source": [
    "ls /storage/home/hcoda1/3/bxia34/scratch"
   ]
  },
  {
   "cell_type": "code",
   "execution_count": 3,
   "id": "5b5e5736",
   "metadata": {},
   "outputs": [
    {
     "name": "stdout",
     "output_type": "stream",
     "text": [
      "ls: cannot access /storage/home/hcoda1/3/bxia34/scratch/average_dTb/V_rms29531/m_chi0.06: No such file or directory\r\n"
     ]
    }
   ],
   "source": [
    "ls /storage/home/hcoda1/3/bxia34/scratch/average_dTb/V_rms29531/m_chi0.06"
   ]
  },
  {
   "cell_type": "code",
   "execution_count": null,
   "id": "022711cb",
   "metadata": {},
   "outputs": [],
   "source": []
  }
 ],
 "metadata": {
  "kernelspec": {
   "display_name": "Python 3 (ipykernel)",
   "language": "python",
   "name": "python3"
  },
  "language_info": {
   "codemirror_mode": {
    "name": "ipython",
    "version": 3
   },
   "file_extension": ".py",
   "mimetype": "text/x-python",
   "name": "python",
   "nbconvert_exporter": "python",
   "pygments_lexer": "ipython3",
   "version": "3.9.12"
  }
 },
 "nbformat": 4,
 "nbformat_minor": 5
}
