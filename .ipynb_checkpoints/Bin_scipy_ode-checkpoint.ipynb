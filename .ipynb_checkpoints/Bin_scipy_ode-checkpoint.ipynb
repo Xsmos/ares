{
 "cells": [
  {
   "cell_type": "code",
   "execution_count": 5,
   "id": "df55e0df-4d43-4e3b-8785-964e30cec29b",
   "metadata": {},
   "outputs": [],
   "source": [
    "from scipy.integrate import ode"
   ]
  },
  {
   "cell_type": "code",
   "execution_count": 26,
   "id": "f38b6305-53f3-4a74-b1ee-5ff5bf57c2e8",
   "metadata": {},
   "outputs": [
    {
     "name": "stdout",
     "output_type": "stream",
     "text": [
      "v = 0.0\n",
      "v = 31557600.000000004\n",
      "v = 31557600.000000004\n",
      "v = 593.6304033734996\n",
      "v = 593.6304033734996\n",
      "v = 1187.2608067469992\n",
      "v = 1187.2608067469992\n",
      "v = 2374.5216134939983\n",
      "v = 3561.7824202409975\n",
      "v = 4749.043226987997\n",
      "v = 16621.651294457988\n",
      "v = 28494.25936192798\n",
      "v = 40366.86742939797\n",
      "v = 159092.9481040979\n",
      "v = 277819.02877879783\n",
      "v = 396545.10945349775\n",
      "v = 1583805.916200497\n",
      "v = 2771066.722947496\n",
      "v = 3958327.5296944953\n",
      "v = 15830935.597164487\n",
      "v = 27703543.66463448\n",
      "v = 39576151.73210447\n",
      "v = 158302232.40680438\n",
      "v = 277028313.0815043\n",
      "v = 395754393.7562042\n",
      "v = 1583015200.5032034\n",
      "v = 2770276007.2502027\n",
      "v = 3957536813.997202\n",
      "v = 15830144881.467196\n",
      "v = 27702752948.937187\n",
      "v = 39575361016.40718\n",
      "v = 158301441691.10712\n",
      "v = 277027522365.80707\n",
      "v = 395753603040.507\n"
     ]
    },
    {
     "data": {
      "text/plain": [
       "array([-1.96251584e+09])"
      ]
     },
     "execution_count": 26,
     "metadata": {},
     "output_type": "execute_result"
    }
   ],
   "source": [
    "def RateEquations(v):\n",
    "    D = 0\n",
    "    dvdt = - 3.941261329883112e-14 * v + D\n",
    "    \n",
    "    # print('v =', v)\n",
    "    return dvdt\n",
    "\n",
    "v = 0\n",
    "dt = 315576000000.0\n",
    "\n",
    "solver = ode(RateEquations).set_integrator('lsoda', nsteps=1e4, atol=1e-8, rtol=1e-8)\n",
    "solver._integrator.iwork[2] = -1\n",
    "solver.set_initial_value(v, 0.0)\n",
    "solver.integrate(dt)                                                                     "
   ]
  },
  {
   "cell_type": "code",
   "execution_count": null,
   "id": "aaa7a686-6cfa-4622-b739-cf924e253278",
   "metadata": {},
   "outputs": [],
   "source": []
  }
 ],
 "metadata": {
  "kernelspec": {
   "display_name": "Python 3 (ipykernel)",
   "language": "python",
   "name": "python3"
  },
  "language_info": {
   "codemirror_mode": {
    "name": "ipython",
    "version": 3
   },
   "file_extension": ".py",
   "mimetype": "text/x-python",
   "name": "python",
   "nbconvert_exporter": "python",
   "pygments_lexer": "ipython3",
   "version": "3.9.13"
  }
 },
 "nbformat": 4,
 "nbformat_minor": 5
}
