{
 "cells": [
  {
   "attachments": {},
   "cell_type": "markdown",
   "metadata": {},
   "source": [
    "# ARES\n",
    "The Accelerated Reionization Era Simulations ([`ARES`](https://ares.readthedocs.io/en/latest/index.html)) code was designed to rapidly generate models for the global 21-cm signal.\n",
    "\n",
    "Based on [Muñoz et al., 2015](https://journals.aps.org/prd/abstract/10.1103/PhysRevD.92.083528), we added `ares/physics/DarkMatterHeating.py` to the original ARES to discuss the heating of baryons due to scattering with dark matter during the dark ages.\n",
    "\n",
    "Following is a documentation about using `test_fitting_dm.py` to fit dark matter mass, `m_chi`, and the R.M.S. of streaming velocity, `V_rms`, between dark matter and gas, given 21-cm temperature signals, `dTb`, and the correponding redshifts, `z`.\n",
    "\n",
    "Be warned: this code is still under active development – use at your own risk! Correctness of results is not guaranteed.\n",
    "\n",
    "## Citation\n",
    "If you use this code in paper please reference [TBD]() if it’s an application of fitting dark matter mass and R.M.S. of streaming velocity.\n",
    "\n",
    "## Dependencies\n",
    "You will need:\n",
    "- numpy\n",
    "- scipy\n",
    "- matplotlib\n",
    "- h5py\n",
    "## Getting started\n",
    "To clone a copy and install:\n",
    "```\n",
    "git clone https://github.com/Xsmos/ares.git\n",
    "cd ares\n",
    "python setup.py install\n",
    "```\n",
    "`ares` will look in `ares/input` for lookup tables of various kinds. To download said lookup tables, run\n",
    "```\n",
    "python remote.py\n",
    "```\n",
    "Check out the original [**ares**](https://ares.readthedocs.io/en/latest/install.html) for more details about installing the lookup tables."
   ]
  },
  {
   "attachments": {},
   "cell_type": "markdown",
   "metadata": {},
   "source": [
    "## Parameters:\n",
    "- `z_sample`: a 1-D array of redshifts.\n",
    "- `dTb_sample`: a 2-D array of brightness temperatures in unit of `mK`. `dTb_sample.shape[1]` must be equal to `z_sample.shape[0]`.\n",
    "- `param_guess`: the initial guess for the parameters `[m_chi, V_rms]` in units of `GeV` and `m/s`, respectively. Default is `[0.1, 29000]`.\n",
    "- `cores`: number of CPUs to calculate the `dTb`s for different initial streaming velocites. Default is 1.\n",
    "- `average_dir`: name of the directory to save the averaged dTb's. Default is `'dTb_averaged'`.\n",
    "- `save_name`: name of the file to save the fitting results. Default is `'m_chi-V_rms.npy'`.\n",
    "- `N_v_streams`: number of initial streaming velocities to be generated equally-spaced between `[0, 3*V_rms]` in order to calculate the averaged global `dTb`. Default is 12.\n",
    "- `verbose`: 0 for showing the final fitting results only, 1 for including intermediate results of the fitting process. Default is 1.\n",
    "- `bounds`: Lower and upper bounds on independent variables. Default is [[0.001,10000],[100,100000]]\n",
    "\n",
    "## Example:"
   ]
  },
  {
   "cell_type": "code",
   "execution_count": null,
   "metadata": {},
   "outputs": [
    {
     "name": "stdout",
     "output_type": "stream",
     "text": [
      "24 v_streams will be generated for m_chi = 0.2 GeV and V_rms = 35000 m/s...\n",
      "Sampling 24 dTb's by 24 CPUs parallelly...\n",
      "It costs 0:00:09.036404 to calculate dTb of 24 different initial_v_streams by 24 CPUs.\n",
      "---------------------------------------------\n",
      "Fitting starts...\n",
      "#1, res: [2.00570680e-01 3.50485659e+04], cost: 0:04:23.184918\n",
      "#2, res: [2.04540090e-01 3.48966342e+04], cost: 0:04:15.684377\n",
      "#3, res: [1.98753499e-01 3.54711695e+04], cost: 0:04:24.435284\n",
      "#4, res: [1.90978709e-01 3.53869497e+04], cost: 0:04:16.956910\n",
      "#5, res: [2.08998215e-01 3.46486289e+04], cost: 0:04:53.586268\n",
      "#6, res: [2.06181664e-01 3.45366870e+04], cost: 0:02:25.278067\n",
      "#7, res: [2.02525391e-01 3.49339606e+04], cost: 0:05:59.812197\n",
      "#8, res: [1.97253994e-01 3.51082213e+04], cost: 0:03:26.805896\n",
      "#9, res: [2.01590779e-01 3.46131009e+04], cost: 0:03:09.384673\n",
      "#10, res: [2.01531793e-01 3.44873676e+04], cost: 0:03:36.686812\n",
      "#11, res: [1.80557420e-01 3.64712674e+04], cost: 0:03:25.724058\n",
      "#12, res: [1.95270443e-01 3.51976827e+04], cost: 0:03:59.311953\n",
      "#13, res: [2.05794196e-01 3.47072047e+04], cost: 0:02:43.326830\n",
      "#14, res: [1.84778550e-01 3.56088051e+04], cost: 0:03:47.537781\n",
      "#15, res: [1.95308465e-01 3.52777381e+04], cost: 0:05:17.496618\n",
      "#16, res: [1.85968513e-01 3.56281563e+04], cost: 0:03:48.096104\n",
      "#17, res: [2.08357831e-01 3.44744399e+04], cost: 0:03:57.507002\n",
      "#18, res: [2.00643944e-01 3.52164693e+04], cost: 0:03:20.997585\n",
      "#19, res: [1.93099561e-01 3.50125119e+04], cost: 0:02:42.149217\n",
      "#20, res: [2.20421538e-01 3.39526569e+04], cost: 0:03:38.034857\n",
      "#21, res: [2.19372746e-01 3.43236337e+04], cost: 0:03:46.507426\n",
      "#22, res: [2.02366448e-01 3.47448307e+04], cost: 0:03:26.857414\n",
      "#23, res: [1.99148446e-01 3.49583040e+04], cost: 0:04:10.366918\n",
      "#24, res: [2.00619572e-01 3.49765799e+04], cost: 0:04:41.908298\n",
      "#25, res: [2.04879508e-01 3.47026274e+04], cost: 0:03:03.306806\n",
      "#26, res: [1.98188979e-01 3.52731900e+04], cost: 0:04:42.712983\n",
      "#27, res: [1.83587174e-01 3.56678632e+04], cost: 0:04:07.725986\n",
      "#28, res: [2.06170627e-01 3.46743951e+04], cost: 0:03:47.510744\n",
      "#29, res: [1.77230225e-01 3.57262353e+04], cost: 0:04:50.768625\n",
      "#30, res: [2.02480848e-01 3.49549008e+04], cost: 0:03:42.158810\n",
      "#31, res: [2.11359743e-01 3.44711746e+04], cost: 0:03:24.349062\n",
      "#32, res: [2.03267157e-01 3.46264918e+04], cost: 0:02:41.982678\n",
      "#33, res: [2.07460128e-01 3.41178895e+04], cost: 0:04:10.581448\n",
      "#34, res: [2.01621723e-01 3.52051065e+04], cost: 0:03:46.353422\n",
      "#35, res: [2.00534733e-01 3.51314056e+04], cost: 0:03:29.173845\n",
      "#36, res: [2.14765523e-01 3.45509228e+04], cost: 0:04:06.887242\n",
      "#37, res: [2.09594629e-01 3.42019777e+04], cost: 0:03:18.421035\n",
      "#38, res: [1.82976172e-01 3.61311562e+04], cost: 0:04:04.848364\n",
      "#39, res: [2.08279518e-01 3.43423525e+04], cost: 0:04:14.735095\n",
      "#40, res: [1.96818048e-01 3.52021136e+04], cost: 0:04:39.657932\n",
      "#41, res: [2.07062457e-01 3.43388839e+04], cost: 0:03:27.742335\n",
      "#42, res: [1.89330978e-01 3.57874457e+04], cost: 0:05:54.690901\n",
      "#43, res: [2.13895670e-01 3.45017474e+04], cost: 0:03:39.986912\n",
      "#44, res: [2.04532522e-01 3.46312819e+04], cost: 0:02:44.635366\n",
      "#45, res: [1.98748751e-01 3.45157825e+04], cost: 0:03:20.909922\n",
      "#46, res: [1.96918837e-01 3.52116993e+04], cost: 0:03:29.811998\n",
      "#47, res: [2.06165739e-01 3.47463666e+04], cost: 0:03:45.678901\n",
      "#48, res: [2.20911371e-01 3.39643586e+04], cost: 0:03:03.191741\n",
      "#49, res: [1.86807429e-01 3.58221495e+04], cost: 0:03:23.841419\n",
      "#50, res: [1.97831412e-01 3.51457296e+04], cost: 0:03:58.237091\n",
      "The fitting process costs 3:12:37.707000 for 50 observations.\n"
     ]
    }
   ],
   "source": [
    "import numpy as np\n",
    "from test_fitting_dm import interp_dTb, fit_param\n",
    "\n",
    "cores = 24\n",
    "N_v_streams = 24\n",
    "\n",
    "# assumptions about the dark matter mass and rms stream velocity\n",
    "m_chi_true = 0.2 # GeV\n",
    "V_rms_true = 35000 # m/s\n",
    "\n",
    "# sampling\n",
    "N_observations = 50 # number of observations\n",
    "z_sample = np.linspace(0, 1100, 300) # redshifts corresponding to these observations\n",
    "dTb_accurate = interp_dTb(param=[m_chi_true, V_rms_true], z=z_sample, cores=cores, N_v_streams=N_v_streams, verbose=1)\n",
    "noise = 1 # mK. std of the signal noise, assumed to be Gaussian and frequency-independent\n",
    "dTb_sample = dTb_accurate + noise * np.random.normal(size=(N_observations, z_sample.shape[0]))\n",
    "\n",
    "# fitting\n",
    "fit_result = fit_param(z_sample, dTb_sample, cores=cores, N_v_streams=N_v_streams, save_name=f\"m_chi{m_chi_true}-V_rms{V_rms_true}-N_v_stream{N_v_streams}.npy\", verbose=0)"
   ]
  },
  {
   "attachments": {},
   "cell_type": "markdown",
   "metadata": {},
   "source": [
    "We can see that the fitting process generally takes about $N_{observations}*\\lceil\\frac{N_{v_{streams}}}{cores}\\rceil*4$ minutes.\n",
    "## Analysis:"
   ]
  },
  {
   "cell_type": "code",
   "execution_count": 11,
   "metadata": {},
   "outputs": [
    {
     "data": {
      "image/png": "[encoded data removed]",
      "text/plain": [
       "<Figure size 600x480 with 1 Axes>"
      ]
     },
     "metadata": {},
     "output_type": "display_data"
    }
   ],
   "source": [
    "import os\n",
    "import matplotlib.pyplot as plt\n",
    "\n",
    "fig = plt.figure(dpi=120, figsize=(5,4))\n",
    "fit_median = {}\n",
    "for filename in os.listdir():\n",
    "    # one assumes all .npy file in current directory have m_chi*V_rms*.npy format.\n",
    "    if \".npy\" in filename:\n",
    "        real_value = filename.split(sep=\"-\")\n",
    "        fit_data = np.load(filename)\n",
    "        fit_median[filename] = np.median(fit_data, axis=0)\n",
    "        plt.scatter(float(real_value[0][5:]), float(real_value[1][5:])/1000, c='k', label='real', s=5)\n",
    "        plt.scatter(fit_data[:,0], fit_data[:,1]/1000, label='fit', s=1)\n",
    "        plt.errorbar(fit_median[filename][0], fit_median[filename][1]/1000, xerr=np.std(fit_data[:,0]), yerr=np.std(fit_data[:,1])/1000)\n",
    "        # print(filename, fit_median[filename])\n",
    "plt.xlabel(r\"$m_{\\chi}$ [GeV]\")\n",
    "plt.ylabel(r\"$V_{rms}$ [km/s]\")\n",
    "plt.legend()\n",
    "plt.show()"
   ]
  },
  {
   "attachments": {},
   "cell_type": "markdown",
   "metadata": {},
   "source": [
    "The distribution of scatter points from upper left to lower right comes from the degeneracy of the effects of m_chi and V_rms on dTb。"
   ]
  },
  {
   "cell_type": "code",
   "execution_count": 15,
   "metadata": {},
   "outputs": [
    {
     "name": "stdout",
     "output_type": "stream",
     "text": [
      "24 v_streams will be generated for m_chi = 0.20156128597891154 GeV and V_rms = 34944.43068580591 m/s...\n",
      "Sampling 24 dTb's by 24 CPUs parallelly..."
     ]
    }
   ],
   "source": [
    "import ares\n",
    "fig = plt.figure(dpi=120, figsize=(5,4))\n",
    "\n",
    "pf = \\\n",
    "    {\n",
    "        'radiative_transfer': False,\n",
    "        'verbose': False,\n",
    "        'dark_matter_heating': False,\n",
    "        'include_cgm': False,\n",
    "        'initial_redshift': 1010,\n",
    "        'include_He': True\n",
    "    }\n",
    "sim = ares.simulations.Global21cm(**pf)\n",
    "sim.run()\n",
    "plt.plot(sim.history['z'], sim.history['dTb'], label=\"no DM heating\")\n",
    "\n",
    "plt.plot(z_sample, dTb_accurate, label=f'real: [{m_chi_true}, {V_rms_true}]', c='k')\n",
    "plt.scatter(z_sample, dTb_sample[0], label=f'sample: noise = {noise}', s=0.5, c='grey')\n",
    "\n",
    "for filename in os.listdir():\n",
    "    # one assumes all .npy file in current directory have m_chi*V_rms*.npy format.\n",
    "    if \".npy\" in filename:\n",
    "        dTb_fit = interp_dTb(param=fit_median[filename], z=z_sample, cores=cores, N_v_streams=N_v_streams, verbose=1)\n",
    "        plt.plot(z_sample, dTb_fit, label=f'fit: [{fit_median[filename][0]:.3f}, {fit_median[filename][1]:.3f}]', linestyle='--')\n",
    "plt.xlabel('z')\n",
    "plt.ylabel('dTb [mK]')\n",
    "plt.xlim(0,300)\n",
    "plt.legend()\n",
    "plt.show()"
   ]
  },
  {
   "cell_type": "markdown",
   "metadata": {},
   "source": [
    "It can be seen from the figure that the fitted curve coincides with the noise-free curve to a very high degree."
   ]
  },
  {
   "cell_type": "code",
   "execution_count": 13,
   "metadata": {},
   "outputs": [
    {
     "name": "stdout",
     "output_type": "stream",
     "text": [
      "24 v_streams will be generated for m_chi = 0.2 GeV and V_rms = 35000 m/s...\n",
      "Sampling 24 dTb's by 2 CPUs parallelly..."
     ]
    },
    {
     "name": "stdout",
     "output_type": "stream",
     "text": [
      "\n",
      "It costs 0:04:03.456180 to calculate dTb of 24 different initial_v_streams by 2 CPUs.\n",
      "---------------------------------------------\n",
      "Fitting starts...\n",
      "kwargs = {'N_v_streams': 24, 'verbose': 0, 'bounds': array([[1.e-03, 1.e+04],\n",
      "       [1.e+02, 1.e+05]])}\n"
     ]
    },
    {
     "ename": "KeyboardInterrupt",
     "evalue": "",
     "output_type": "error",
     "traceback": [
      "\u001b[0;31m---------------------------------------------------------------------------\u001b[0m",
      "\u001b[0;31mKeyboardInterrupt\u001b[0m                         Traceback (most recent call last)",
      "\u001b[0;32m/tmp/ipykernel_17080/1443447153.py\u001b[0m in \u001b[0;36m<module>\u001b[0;34m\u001b[0m\n\u001b[1;32m     17\u001b[0m \u001b[0;34m\u001b[0m\u001b[0m\n\u001b[1;32m     18\u001b[0m \u001b[0;31m# fitting\u001b[0m\u001b[0;34m\u001b[0m\u001b[0;34m\u001b[0m\u001b[0m\n\u001b[0;32m---> 19\u001b[0;31m \u001b[0mfit_result\u001b[0m \u001b[0;34m=\u001b[0m \u001b[0mfit_param\u001b[0m\u001b[0;34m(\u001b[0m\u001b[0mz_sample\u001b[0m\u001b[0;34m,\u001b[0m \u001b[0mdTb_sample\u001b[0m\u001b[0;34m,\u001b[0m \u001b[0mcores\u001b[0m\u001b[0;34m=\u001b[0m\u001b[0mcores\u001b[0m\u001b[0;34m,\u001b[0m \u001b[0mN_v_streams\u001b[0m\u001b[0;34m=\u001b[0m\u001b[0mN_v_streams\u001b[0m\u001b[0;34m,\u001b[0m \u001b[0msave_name\u001b[0m\u001b[0;34m=\u001b[0m\u001b[0;34mf\"m_chi{m_chi_true}-V_rms{V_rms_true}-N_v_stream{N_v_streams}.npy\"\u001b[0m\u001b[0;34m,\u001b[0m \u001b[0mverbose\u001b[0m\u001b[0;34m=\u001b[0m\u001b[0;36m0\u001b[0m\u001b[0;34m)\u001b[0m\u001b[0;34m\u001b[0m\u001b[0;34m\u001b[0m\u001b[0m\n\u001b[0m",
      "\u001b[0;32m~/Bin/ares/examples/fit_dm/test_fitting_dm.py\u001b[0m in \u001b[0;36mfit_param\u001b[0;34m(z_sample, dTb_sample, param_guess, cores, average_dir, save_name, **kwargs)\u001b[0m\n\u001b[1;32m    213\u001b[0m \u001b[0;34m\u001b[0m\u001b[0m\n\u001b[1;32m    214\u001b[0m         \u001b[0mstart_time\u001b[0m \u001b[0;34m=\u001b[0m \u001b[0mdatetime\u001b[0m\u001b[0;34m.\u001b[0m\u001b[0mnow\u001b[0m\u001b[0;34m(\u001b[0m\u001b[0;34m)\u001b[0m\u001b[0;34m\u001b[0m\u001b[0;34m\u001b[0m\u001b[0m\n\u001b[0;32m--> 215\u001b[0;31m         \u001b[0mres\u001b[0m \u001b[0;34m=\u001b[0m \u001b[0mleast_squares\u001b[0m\u001b[0;34m(\u001b[0m\u001b[0mresidual\u001b[0m\u001b[0;34m,\u001b[0m \u001b[0mparam_guess\u001b[0m\u001b[0;34m,\u001b[0m \u001b[0mbounds\u001b[0m\u001b[0;34m=\u001b[0m\u001b[0mkwargs\u001b[0m\u001b[0;34m[\u001b[0m\u001b[0;34m'bounds'\u001b[0m\u001b[0;34m]\u001b[0m\u001b[0;34m,\u001b[0m \u001b[0margs\u001b[0m\u001b[0;34m=\u001b[0m\u001b[0;34m(\u001b[0m\u001b[0margs_z\u001b[0m\u001b[0;34m,\u001b[0m \u001b[0margs_dTb\u001b[0m\u001b[0;34m,\u001b[0m \u001b[0mkwargs\u001b[0m\u001b[0;34m,\u001b[0m \u001b[0mcores\u001b[0m\u001b[0;34m,\u001b[0m \u001b[0maverage_dir\u001b[0m\u001b[0;34m)\u001b[0m\u001b[0;34m,\u001b[0m \u001b[0mdiff_step\u001b[0m\u001b[0;34m=\u001b[0m\u001b[0;36m0.1\u001b[0m\u001b[0;34m)\u001b[0m\u001b[0;34m\u001b[0m\u001b[0;34m\u001b[0m\u001b[0m\n\u001b[0m\u001b[1;32m    216\u001b[0m         \u001b[0mtheta_fit\u001b[0m \u001b[0;34m=\u001b[0m \u001b[0mres\u001b[0m\u001b[0;34m.\u001b[0m\u001b[0mx\u001b[0m\u001b[0;34m\u001b[0m\u001b[0;34m\u001b[0m\u001b[0m\n\u001b[1;32m    217\u001b[0m         \u001b[0;32mif\u001b[0m \u001b[0mres\u001b[0m\u001b[0;34m.\u001b[0m\u001b[0msuccess\u001b[0m \u001b[0;34m==\u001b[0m \u001b[0;32mFalse\u001b[0m\u001b[0;34m:\u001b[0m\u001b[0;34m\u001b[0m\u001b[0;34m\u001b[0m\u001b[0m\n",
      "\u001b[0;32m~/anaconda3/lib/python3.9/site-packages/scipy/optimize/_lsq/least_squares.py\u001b[0m in \u001b[0;36mleast_squares\u001b[0;34m(fun, x0, jac, bounds, method, ftol, xtol, gtol, x_scale, loss, f_scale, diff_step, tr_solver, tr_options, jac_sparsity, max_nfev, verbose, args, kwargs)\u001b[0m\n\u001b[1;32m    818\u001b[0m         \u001b[0mx0\u001b[0m \u001b[0;34m=\u001b[0m \u001b[0mmake_strictly_feasible\u001b[0m\u001b[0;34m(\u001b[0m\u001b[0mx0\u001b[0m\u001b[0;34m,\u001b[0m \u001b[0mlb\u001b[0m\u001b[0;34m,\u001b[0m \u001b[0mub\u001b[0m\u001b[0;34m)\u001b[0m\u001b[0;34m\u001b[0m\u001b[0;34m\u001b[0m\u001b[0m\n\u001b[1;32m    819\u001b[0m \u001b[0;34m\u001b[0m\u001b[0m\n\u001b[0;32m--> 820\u001b[0;31m     \u001b[0mf0\u001b[0m \u001b[0;34m=\u001b[0m \u001b[0mfun_wrapped\u001b[0m\u001b[0;34m(\u001b[0m\u001b[0mx0\u001b[0m\u001b[0;34m)\u001b[0m\u001b[0;34m\u001b[0m\u001b[0;34m\u001b[0m\u001b[0m\n\u001b[0m\u001b[1;32m    821\u001b[0m \u001b[0;34m\u001b[0m\u001b[0m\n\u001b[1;32m    822\u001b[0m     \u001b[0;32mif\u001b[0m \u001b[0mf0\u001b[0m\u001b[0;34m.\u001b[0m\u001b[0mndim\u001b[0m \u001b[0;34m!=\u001b[0m \u001b[0;36m1\u001b[0m\u001b[0;34m:\u001b[0m\u001b[0;34m\u001b[0m\u001b[0;34m\u001b[0m\u001b[0m\n",
      "\u001b[0;32m~/anaconda3/lib/python3.9/site-packages/scipy/optimize/_lsq/least_squares.py\u001b[0m in \u001b[0;36mfun_wrapped\u001b[0;34m(x)\u001b[0m\n\u001b[1;32m    813\u001b[0m \u001b[0;34m\u001b[0m\u001b[0m\n\u001b[1;32m    814\u001b[0m     \u001b[0;32mdef\u001b[0m \u001b[0mfun_wrapped\u001b[0m\u001b[0;34m(\u001b[0m\u001b[0mx\u001b[0m\u001b[0;34m)\u001b[0m\u001b[0;34m:\u001b[0m\u001b[0;34m\u001b[0m\u001b[0;34m\u001b[0m\u001b[0m\n\u001b[0;32m--> 815\u001b[0;31m         \u001b[0;32mreturn\u001b[0m \u001b[0mnp\u001b[0m\u001b[0;34m.\u001b[0m\u001b[0matleast_1d\u001b[0m\u001b[0;34m(\u001b[0m\u001b[0mfun\u001b[0m\u001b[0;34m(\u001b[0m\u001b[0mx\u001b[0m\u001b[0;34m,\u001b[0m \u001b[0;34m*\u001b[0m\u001b[0margs\u001b[0m\u001b[0;34m,\u001b[0m \u001b[0;34m**\u001b[0m\u001b[0mkwargs\u001b[0m\u001b[0;34m)\u001b[0m\u001b[0;34m)\u001b[0m\u001b[0;34m\u001b[0m\u001b[0;34m\u001b[0m\u001b[0m\n\u001b[0m\u001b[1;32m    816\u001b[0m \u001b[0;34m\u001b[0m\u001b[0m\n\u001b[1;32m    817\u001b[0m     \u001b[0;32mif\u001b[0m \u001b[0mmethod\u001b[0m \u001b[0;34m==\u001b[0m \u001b[0;34m'trf'\u001b[0m\u001b[0;34m:\u001b[0m\u001b[0;34m\u001b[0m\u001b[0;34m\u001b[0m\u001b[0m\n",
      "\u001b[0;32m~/Bin/ares/examples/fit_dm/test_fitting_dm.py\u001b[0m in \u001b[0;36mresidual\u001b[0;34m(param, z_sample, dTb_sample, kwargs, cores, average_dir)\u001b[0m\n\u001b[1;32m    172\u001b[0m \u001b[0;34m\u001b[0m\u001b[0m\n\u001b[1;32m    173\u001b[0m \u001b[0;32mdef\u001b[0m \u001b[0mresidual\u001b[0m\u001b[0;34m(\u001b[0m\u001b[0mparam\u001b[0m\u001b[0;34m,\u001b[0m \u001b[0mz_sample\u001b[0m\u001b[0;34m,\u001b[0m \u001b[0mdTb_sample\u001b[0m\u001b[0;34m,\u001b[0m \u001b[0mkwargs\u001b[0m\u001b[0;34m,\u001b[0m \u001b[0mcores\u001b[0m\u001b[0;34m=\u001b[0m\u001b[0;36m1\u001b[0m\u001b[0;34m,\u001b[0m \u001b[0maverage_dir\u001b[0m\u001b[0;34m=\u001b[0m\u001b[0;34m\"dTb_averaged\"\u001b[0m\u001b[0;34m)\u001b[0m\u001b[0;34m:\u001b[0m\u001b[0;34m\u001b[0m\u001b[0;34m\u001b[0m\u001b[0m\n\u001b[0;32m--> 174\u001b[0;31m     \u001b[0mresidual\u001b[0m \u001b[0;34m=\u001b[0m \u001b[0minterp_dTb\u001b[0m\u001b[0;34m(\u001b[0m\u001b[0mparam\u001b[0m\u001b[0;34m,\u001b[0m \u001b[0mz_sample\u001b[0m\u001b[0;34m,\u001b[0m \u001b[0mcores\u001b[0m\u001b[0;34m,\u001b[0m \u001b[0maverage_dir\u001b[0m\u001b[0;34m=\u001b[0m\u001b[0maverage_dir\u001b[0m\u001b[0;34m,\u001b[0m \u001b[0;34m**\u001b[0m\u001b[0mkwargs\u001b[0m\u001b[0;34m)\u001b[0m \u001b[0;34m-\u001b[0m \u001b[0mdTb_sample\u001b[0m\u001b[0;34m\u001b[0m\u001b[0;34m\u001b[0m\u001b[0m\n\u001b[0m\u001b[1;32m    175\u001b[0m     \u001b[0;32mreturn\u001b[0m \u001b[0mresidual\u001b[0m\u001b[0;34m\u001b[0m\u001b[0;34m\u001b[0m\u001b[0m\n\u001b[1;32m    176\u001b[0m \u001b[0;34m\u001b[0m\u001b[0m\n",
      "\u001b[0;32m~/Bin/ares/examples/fit_dm/test_fitting_dm.py\u001b[0m in \u001b[0;36minterp_dTb\u001b[0;34m(param, z, cores, average_dir, **kwargs)\u001b[0m\n\u001b[1;32m    163\u001b[0m         \u001b[0;32mif\u001b[0m \u001b[0mkwargs\u001b[0m\u001b[0;34m[\u001b[0m\u001b[0;34m'verbose'\u001b[0m\u001b[0;34m]\u001b[0m \u001b[0;34m>=\u001b[0m \u001b[0;36m1\u001b[0m\u001b[0;34m:\u001b[0m\u001b[0;34m\u001b[0m\u001b[0;34m\u001b[0m\u001b[0m\n\u001b[1;32m    164\u001b[0m             \u001b[0mprint\u001b[0m\u001b[0;34m(\u001b[0m\u001b[0;34m\"{} v_streams will be generated for m_chi = {} GeV and V_rms = {} m/s...\"\u001b[0m\u001b[0;34m.\u001b[0m\u001b[0mformat\u001b[0m\u001b[0;34m(\u001b[0m\u001b[0mN_v_streams\u001b[0m\u001b[0;34m,\u001b[0m \u001b[0mm_chi\u001b[0m\u001b[0;34m,\u001b[0m \u001b[0mV_rms\u001b[0m\u001b[0;34m)\u001b[0m\u001b[0;34m)\u001b[0m\u001b[0;34m\u001b[0m\u001b[0;34m\u001b[0m\u001b[0m\n\u001b[0;32m--> 165\u001b[0;31m         \u001b[0mz_array\u001b[0m\u001b[0;34m,\u001b[0m \u001b[0mdTb_averaged\u001b[0m\u001b[0;34m,\u001b[0m \u001b[0mm_chi\u001b[0m\u001b[0;34m,\u001b[0m \u001b[0mV_rms\u001b[0m \u001b[0;34m=\u001b[0m \u001b[0maverage_dTb\u001b[0m\u001b[0;34m(\u001b[0m\u001b[0mm_chi\u001b[0m\u001b[0;34m=\u001b[0m\u001b[0mm_chi\u001b[0m\u001b[0;34m,\u001b[0m \u001b[0mcores\u001b[0m\u001b[0;34m=\u001b[0m\u001b[0mcores\u001b[0m\u001b[0;34m,\u001b[0m \u001b[0mV_rms\u001b[0m\u001b[0;34m=\u001b[0m\u001b[0mV_rms\u001b[0m\u001b[0;34m,\u001b[0m \u001b[0maverage_dir\u001b[0m\u001b[0;34m=\u001b[0m\u001b[0maverage_dir\u001b[0m\u001b[0;34m,\u001b[0m \u001b[0;34m**\u001b[0m\u001b[0mkwargs\u001b[0m\u001b[0;34m)\u001b[0m\u001b[0;34m\u001b[0m\u001b[0;34m\u001b[0m\u001b[0m\n\u001b[0m\u001b[1;32m    166\u001b[0m \u001b[0;34m\u001b[0m\u001b[0m\n\u001b[1;32m    167\u001b[0m     \u001b[0mf\u001b[0m \u001b[0;34m=\u001b[0m \u001b[0minterp1d\u001b[0m\u001b[0;34m(\u001b[0m\u001b[0mz_array\u001b[0m\u001b[0;34m,\u001b[0m \u001b[0mdTb_averaged\u001b[0m\u001b[0;34m,\u001b[0m \u001b[0mfill_value\u001b[0m\u001b[0;34m=\u001b[0m\u001b[0;34m\"extrapolate\"\u001b[0m\u001b[0;34m,\u001b[0m \u001b[0mkind\u001b[0m\u001b[0;34m=\u001b[0m\u001b[0;34m'cubic'\u001b[0m\u001b[0;34m)\u001b[0m\u001b[0;34m\u001b[0m\u001b[0;34m\u001b[0m\u001b[0m\n",
      "\u001b[0;32m~/Bin/ares/examples/fit_dm/test_fitting_dm.py\u001b[0m in \u001b[0;36maverage_dTb\u001b[0;34m(m_chi, N_z, cores, V_rms, average_dir, **kwargs)\u001b[0m\n\u001b[1;32m    105\u001b[0m     \u001b[0mpath\u001b[0m \u001b[0;34m=\u001b[0m \u001b[0;34m\"{}/V_rms{}/m_chi{}\"\u001b[0m\u001b[0;34m.\u001b[0m\u001b[0mformat\u001b[0m\u001b[0;34m(\u001b[0m\u001b[0maverage_dir\u001b[0m\u001b[0;34m,\u001b[0m \u001b[0mV_rms\u001b[0m\u001b[0;34m,\u001b[0m \u001b[0mm_chi\u001b[0m\u001b[0;34m)\u001b[0m\u001b[0;34m\u001b[0m\u001b[0;34m\u001b[0m\u001b[0m\n\u001b[1;32m    106\u001b[0m     \u001b[0;32mif\u001b[0m \u001b[0;32mnot\u001b[0m \u001b[0mos\u001b[0m\u001b[0;34m.\u001b[0m\u001b[0mpath\u001b[0m\u001b[0;34m.\u001b[0m\u001b[0mexists\u001b[0m\u001b[0;34m(\u001b[0m\u001b[0mpath\u001b[0m\u001b[0;34m+\u001b[0m\u001b[0;34m'.npy'\u001b[0m\u001b[0;34m)\u001b[0m \u001b[0;32mor\u001b[0m \u001b[0mkwargs\u001b[0m\u001b[0;34m[\u001b[0m\u001b[0;34m\"N_v_streams\"\u001b[0m\u001b[0;34m]\u001b[0m\u001b[0;34m:\u001b[0m\u001b[0;34m\u001b[0m\u001b[0;34m\u001b[0m\u001b[0m\n\u001b[0;32m--> 107\u001b[0;31m         \u001b[0mdTb_v_stream_list\u001b[0m\u001b[0;34m(\u001b[0m\u001b[0mm_chi\u001b[0m\u001b[0;34m,\u001b[0m \u001b[0mcores\u001b[0m\u001b[0;34m=\u001b[0m\u001b[0mcores\u001b[0m\u001b[0;34m,\u001b[0m \u001b[0mV_rms\u001b[0m\u001b[0;34m=\u001b[0m\u001b[0mV_rms\u001b[0m\u001b[0;34m,\u001b[0m \u001b[0maverage_dir\u001b[0m\u001b[0;34m=\u001b[0m\u001b[0maverage_dir\u001b[0m\u001b[0;34m,\u001b[0m \u001b[0;34m**\u001b[0m\u001b[0mkwargs\u001b[0m\u001b[0;34m)\u001b[0m\u001b[0;34m\u001b[0m\u001b[0;34m\u001b[0m\u001b[0m\n\u001b[0m\u001b[1;32m    108\u001b[0m \u001b[0;34m\u001b[0m\u001b[0m\n\u001b[1;32m    109\u001b[0m     \u001b[0mfile_names\u001b[0m \u001b[0;34m=\u001b[0m \u001b[0mos\u001b[0m\u001b[0;34m.\u001b[0m\u001b[0mlistdir\u001b[0m\u001b[0;34m(\u001b[0m\u001b[0mpath\u001b[0m\u001b[0;34m)\u001b[0m\u001b[0;34m\u001b[0m\u001b[0;34m\u001b[0m\u001b[0m\n",
      "\u001b[0;32m~/Bin/ares/examples/fit_dm/test_fitting_dm.py\u001b[0m in \u001b[0;36mdTb_v_stream_list\u001b[0;34m(m_chi, cores, V_rms, average_dir, **kwargs)\u001b[0m\n\u001b[1;32m     77\u001b[0m \u001b[0;34m\u001b[0m\u001b[0m\n\u001b[1;32m     78\u001b[0m         \u001b[0;32mwith\u001b[0m \u001b[0mPool\u001b[0m\u001b[0;34m(\u001b[0m\u001b[0mcpu_count\u001b[0m\u001b[0;34m)\u001b[0m \u001b[0;32mas\u001b[0m \u001b[0mp\u001b[0m\u001b[0;34m:\u001b[0m\u001b[0;34m\u001b[0m\u001b[0;34m\u001b[0m\u001b[0m\n\u001b[0;32m---> 79\u001b[0;31m             \u001b[0mpids\u001b[0m \u001b[0;34m=\u001b[0m \u001b[0mp\u001b[0m\u001b[0;34m.\u001b[0m\u001b[0mmap\u001b[0m\u001b[0;34m(\u001b[0m\u001b[0mf_mpi\u001b[0m\u001b[0;34m,\u001b[0m \u001b[0minitial_v_stream_list\u001b[0m\u001b[0;34m)\u001b[0m\u001b[0;34m\u001b[0m\u001b[0;34m\u001b[0m\u001b[0m\n\u001b[0m\u001b[1;32m     80\u001b[0m         \u001b[0mnumber_of_CPUs\u001b[0m \u001b[0;34m=\u001b[0m \u001b[0mnp\u001b[0m\u001b[0;34m.\u001b[0m\u001b[0munique\u001b[0m\u001b[0;34m(\u001b[0m\u001b[0mpids\u001b[0m\u001b[0;34m)\u001b[0m\u001b[0;34m.\u001b[0m\u001b[0msize\u001b[0m\u001b[0;34m\u001b[0m\u001b[0;34m\u001b[0m\u001b[0m\n\u001b[1;32m     81\u001b[0m \u001b[0;34m\u001b[0m\u001b[0m\n",
      "\u001b[0;32m~/anaconda3/lib/python3.9/multiprocessing/pool.py\u001b[0m in \u001b[0;36mmap\u001b[0;34m(self, func, iterable, chunksize)\u001b[0m\n\u001b[1;32m    362\u001b[0m         \u001b[0;32min\u001b[0m \u001b[0ma\u001b[0m \u001b[0mlist\u001b[0m \u001b[0mthat\u001b[0m \u001b[0;32mis\u001b[0m \u001b[0mreturned\u001b[0m\u001b[0;34m.\u001b[0m\u001b[0;34m\u001b[0m\u001b[0;34m\u001b[0m\u001b[0m\n\u001b[1;32m    363\u001b[0m         '''\n\u001b[0;32m--> 364\u001b[0;31m         \u001b[0;32mreturn\u001b[0m \u001b[0mself\u001b[0m\u001b[0;34m.\u001b[0m\u001b[0m_map_async\u001b[0m\u001b[0;34m(\u001b[0m\u001b[0mfunc\u001b[0m\u001b[0;34m,\u001b[0m \u001b[0miterable\u001b[0m\u001b[0;34m,\u001b[0m \u001b[0mmapstar\u001b[0m\u001b[0;34m,\u001b[0m \u001b[0mchunksize\u001b[0m\u001b[0;34m)\u001b[0m\u001b[0;34m.\u001b[0m\u001b[0mget\u001b[0m\u001b[0;34m(\u001b[0m\u001b[0;34m)\u001b[0m\u001b[0;34m\u001b[0m\u001b[0;34m\u001b[0m\u001b[0m\n\u001b[0m\u001b[1;32m    365\u001b[0m \u001b[0;34m\u001b[0m\u001b[0m\n\u001b[1;32m    366\u001b[0m     \u001b[0;32mdef\u001b[0m \u001b[0mstarmap\u001b[0m\u001b[0;34m(\u001b[0m\u001b[0mself\u001b[0m\u001b[0;34m,\u001b[0m \u001b[0mfunc\u001b[0m\u001b[0;34m,\u001b[0m \u001b[0miterable\u001b[0m\u001b[0;34m,\u001b[0m \u001b[0mchunksize\u001b[0m\u001b[0;34m=\u001b[0m\u001b[0;32mNone\u001b[0m\u001b[0;34m)\u001b[0m\u001b[0;34m:\u001b[0m\u001b[0;34m\u001b[0m\u001b[0;34m\u001b[0m\u001b[0m\n",
      "\u001b[0;32m~/anaconda3/lib/python3.9/multiprocessing/pool.py\u001b[0m in \u001b[0;36mget\u001b[0;34m(self, timeout)\u001b[0m\n\u001b[1;32m    763\u001b[0m \u001b[0;34m\u001b[0m\u001b[0m\n\u001b[1;32m    764\u001b[0m     \u001b[0;32mdef\u001b[0m \u001b[0mget\u001b[0m\u001b[0;34m(\u001b[0m\u001b[0mself\u001b[0m\u001b[0;34m,\u001b[0m \u001b[0mtimeout\u001b[0m\u001b[0;34m=\u001b[0m\u001b[0;32mNone\u001b[0m\u001b[0;34m)\u001b[0m\u001b[0;34m:\u001b[0m\u001b[0;34m\u001b[0m\u001b[0;34m\u001b[0m\u001b[0m\n\u001b[0;32m--> 765\u001b[0;31m         \u001b[0mself\u001b[0m\u001b[0;34m.\u001b[0m\u001b[0mwait\u001b[0m\u001b[0;34m(\u001b[0m\u001b[0mtimeout\u001b[0m\u001b[0;34m)\u001b[0m\u001b[0;34m\u001b[0m\u001b[0;34m\u001b[0m\u001b[0m\n\u001b[0m\u001b[1;32m    766\u001b[0m         \u001b[0;32mif\u001b[0m \u001b[0;32mnot\u001b[0m \u001b[0mself\u001b[0m\u001b[0;34m.\u001b[0m\u001b[0mready\u001b[0m\u001b[0;34m(\u001b[0m\u001b[0;34m)\u001b[0m\u001b[0;34m:\u001b[0m\u001b[0;34m\u001b[0m\u001b[0;34m\u001b[0m\u001b[0m\n\u001b[1;32m    767\u001b[0m             \u001b[0;32mraise\u001b[0m \u001b[0mTimeoutError\u001b[0m\u001b[0;34m\u001b[0m\u001b[0;34m\u001b[0m\u001b[0m\n",
      "\u001b[0;32m~/anaconda3/lib/python3.9/multiprocessing/pool.py\u001b[0m in \u001b[0;36mwait\u001b[0;34m(self, timeout)\u001b[0m\n\u001b[1;32m    760\u001b[0m \u001b[0;34m\u001b[0m\u001b[0m\n\u001b[1;32m    761\u001b[0m     \u001b[0;32mdef\u001b[0m \u001b[0mwait\u001b[0m\u001b[0;34m(\u001b[0m\u001b[0mself\u001b[0m\u001b[0;34m,\u001b[0m \u001b[0mtimeout\u001b[0m\u001b[0;34m=\u001b[0m\u001b[0;32mNone\u001b[0m\u001b[0;34m)\u001b[0m\u001b[0;34m:\u001b[0m\u001b[0;34m\u001b[0m\u001b[0;34m\u001b[0m\u001b[0m\n\u001b[0;32m--> 762\u001b[0;31m         \u001b[0mself\u001b[0m\u001b[0;34m.\u001b[0m\u001b[0m_event\u001b[0m\u001b[0;34m.\u001b[0m\u001b[0mwait\u001b[0m\u001b[0;34m(\u001b[0m\u001b[0mtimeout\u001b[0m\u001b[0;34m)\u001b[0m\u001b[0;34m\u001b[0m\u001b[0;34m\u001b[0m\u001b[0m\n\u001b[0m\u001b[1;32m    763\u001b[0m \u001b[0;34m\u001b[0m\u001b[0m\n\u001b[1;32m    764\u001b[0m     \u001b[0;32mdef\u001b[0m \u001b[0mget\u001b[0m\u001b[0;34m(\u001b[0m\u001b[0mself\u001b[0m\u001b[0;34m,\u001b[0m \u001b[0mtimeout\u001b[0m\u001b[0;34m=\u001b[0m\u001b[0;32mNone\u001b[0m\u001b[0;34m)\u001b[0m\u001b[0;34m:\u001b[0m\u001b[0;34m\u001b[0m\u001b[0;34m\u001b[0m\u001b[0m\n",
      "\u001b[0;32m~/anaconda3/lib/python3.9/threading.py\u001b[0m in \u001b[0;36mwait\u001b[0;34m(self, timeout)\u001b[0m\n\u001b[1;32m    579\u001b[0m             \u001b[0msignaled\u001b[0m \u001b[0;34m=\u001b[0m \u001b[0mself\u001b[0m\u001b[0;34m.\u001b[0m\u001b[0m_flag\u001b[0m\u001b[0;34m\u001b[0m\u001b[0;34m\u001b[0m\u001b[0m\n\u001b[1;32m    580\u001b[0m             \u001b[0;32mif\u001b[0m \u001b[0;32mnot\u001b[0m \u001b[0msignaled\u001b[0m\u001b[0;34m:\u001b[0m\u001b[0;34m\u001b[0m\u001b[0;34m\u001b[0m\u001b[0m\n\u001b[0;32m--> 581\u001b[0;31m                 \u001b[0msignaled\u001b[0m \u001b[0;34m=\u001b[0m \u001b[0mself\u001b[0m\u001b[0;34m.\u001b[0m\u001b[0m_cond\u001b[0m\u001b[0;34m.\u001b[0m\u001b[0mwait\u001b[0m\u001b[0;34m(\u001b[0m\u001b[0mtimeout\u001b[0m\u001b[0;34m)\u001b[0m\u001b[0;34m\u001b[0m\u001b[0;34m\u001b[0m\u001b[0m\n\u001b[0m\u001b[1;32m    582\u001b[0m             \u001b[0;32mreturn\u001b[0m \u001b[0msignaled\u001b[0m\u001b[0;34m\u001b[0m\u001b[0;34m\u001b[0m\u001b[0m\n\u001b[1;32m    583\u001b[0m \u001b[0;34m\u001b[0m\u001b[0m\n",
      "\u001b[0;32m~/anaconda3/lib/python3.9/threading.py\u001b[0m in \u001b[0;36mwait\u001b[0;34m(self, timeout)\u001b[0m\n\u001b[1;32m    310\u001b[0m         \u001b[0;32mtry\u001b[0m\u001b[0;34m:\u001b[0m    \u001b[0;31m# restore state no matter what (e.g., KeyboardInterrupt)\u001b[0m\u001b[0;34m\u001b[0m\u001b[0;34m\u001b[0m\u001b[0m\n\u001b[1;32m    311\u001b[0m             \u001b[0;32mif\u001b[0m \u001b[0mtimeout\u001b[0m \u001b[0;32mis\u001b[0m \u001b[0;32mNone\u001b[0m\u001b[0;34m:\u001b[0m\u001b[0;34m\u001b[0m\u001b[0;34m\u001b[0m\u001b[0m\n\u001b[0;32m--> 312\u001b[0;31m                 \u001b[0mwaiter\u001b[0m\u001b[0;34m.\u001b[0m\u001b[0macquire\u001b[0m\u001b[0;34m(\u001b[0m\u001b[0;34m)\u001b[0m\u001b[0;34m\u001b[0m\u001b[0;34m\u001b[0m\u001b[0m\n\u001b[0m\u001b[1;32m    313\u001b[0m                 \u001b[0mgotit\u001b[0m \u001b[0;34m=\u001b[0m \u001b[0;32mTrue\u001b[0m\u001b[0;34m\u001b[0m\u001b[0;34m\u001b[0m\u001b[0m\n\u001b[1;32m    314\u001b[0m             \u001b[0;32melse\u001b[0m\u001b[0;34m:\u001b[0m\u001b[0;34m\u001b[0m\u001b[0;34m\u001b[0m\u001b[0m\n",
      "\u001b[0;31mKeyboardInterrupt\u001b[0m: "
     ]
    }
   ],
   "source": [
    "import numpy as np\n",
    "from test_fitting_dm import interp_dTb, fit_param\n",
    "\n",
    "cores = 2\n",
    "N_v_streams = 24\n",
    "\n",
    "# assumptions about the dark matter mass and rms stream velocity\n",
    "m_chi_true = 0.2 # GeV\n",
    "V_rms_true = 35000 # m/s\n",
    "\n",
    "# sampling\n",
    "N_observations = 50 # number of observations\n",
    "z_sample = np.linspace(0, 1100, 300) # redshifts corresponding to these observations\n",
    "dTb_accurate = interp_dTb(param=[m_chi_true, V_rms_true], z=z_sample, cores=cores, N_v_streams=N_v_streams, verbose=1)\n",
    "noise = 1 # mK. std of the signal noise, assumed to be Gaussian and frequency-independent\n",
    "dTb_sample = dTb_accurate + noise * np.random.normal(size=(N_observations, z_sample.shape[0]))\n",
    "\n",
    "# fitting\n",
    "fit_result = fit_param(z_sample, dTb_sample, cores=cores, N_v_streams=N_v_streams, save_name=f\"m_chi{m_chi_true}-V_rms{V_rms_true}-N_v_stream{N_v_streams}.npy\", verbose=0)"
   ]
  },
  {
   "cell_type": "code",
   "execution_count": 14,
   "metadata": {},
   "outputs": [],
   "source": [
    "cores=24"
   ]
  },
  {
   "cell_type": "code",
   "execution_count": null,
   "metadata": {},
   "outputs": [],
   "source": []
  }
 ],
 "metadata": {
  "kernelspec": {
   "display_name": "base",
   "language": "python",
   "name": "python3"
  },
  "language_info": {
   "codemirror_mode": {
    "name": "ipython",
    "version": 3
   },
   "file_extension": ".py",
   "mimetype": "text/x-python",
   "name": "python",
   "nbconvert_exporter": "python",
   "pygments_lexer": "ipython3",
   "version": "3.9.13"
  },
  "orig_nbformat": 4
 },
 "nbformat": 4,
 "nbformat_minor": 2
}
