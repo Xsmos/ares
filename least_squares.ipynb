{
 "cells": [
  {
   "cell_type": "code",
   "execution_count": 1,
   "id": "c79b7789-b97d-410d-8e20-790a4258fa8a",
   "metadata": {},
   "outputs": [],
   "source": [
    "from scipy.optimize import least_squares\n",
    "import numpy as np\n",
    "import matplotlib.pyplot as plt\n",
    "import ares\n",
    "from average_dTb import average_dTb\n",
    "import os"
   ]
  },
  {
   "cell_type": "code",
   "execution_count": 2,
   "id": "46129b65",
   "metadata": {},
   "outputs": [],
   "source": [
    "# !python remote.py"
   ]
  },
  {
   "cell_type": "code",
   "execution_count": 3,
   "id": "16e443a0",
   "metadata": {},
   "outputs": [
    {
     "name": "stdout",
     "output_type": "stream",
     "text": [
      "# Loaded $ARES/input/inits/inits_planck_TTTEEE_lowl_lowE_best.txt.\n",
      "\n",
      "############################################################################\n",
      "##                       ARES Simulation: Overview                        ##\n",
      "############################################################################\n",
      "## ---------------------------------------------------------------------- ##\n",
      "## Source Populations                                                     ##\n",
      "## ---------------------------------------------------------------------- ##\n",
      "##           sfrd    sed  radio  O/IR  Lya    LW   LyC   Xray  RTE        ##\n",
      "## pop #0 :  fcoll    yes    -     -     x     -     -     -     -        ##\n",
      "## pop #1 : sfrd->0   yes    -     -     -     -     -     x     -        ##\n",
      "## pop #2 : sfrd->0   yes    -     -     -     -     x     -     -        ##\n",
      "## ---------------------------------------------------------------------- ##\n",
      "## Physics                                                                ##\n",
      "## ---------------------------------------------------------------------- ##\n",
      "## cgm_initial_temperature        : [10000.0]                             ##\n",
      "## clumping_factor                : 1                                     ##\n",
      "## secondary_ionization           : 1                                     ##\n",
      "## approx_Salpha                  : 1                                     ##\n",
      "## include_He                     : False                                 ##\n",
      "## feedback_LW                    : False                                 ##\n",
      "############################################################################\n",
      "# Loaded $ARES/input/hmf/hmf_ST_planck_TTTEEE_lowl_lowE_best_logM_1400_4-18_z_1201_0-60.hdf5.\n"
     ]
    }
   ],
   "source": [
    "sim = ares.simulations.Global21cm(radiative_transfer=False)\n",
    "sim.run()"
   ]
  },
  {
   "cell_type": "code",
   "execution_count": 4,
   "id": "733c676d-f7a9-434f-8444-1783acb7bd2a",
   "metadata": {},
   "outputs": [],
   "source": [
    "def dTb(theta, z):\n",
    "    m_chi = theta[0]\n",
    "    \n",
    "    directory = \"average_dTb/m_chi\"+\"{:.2f}\".format(m_chi)\n",
    "    if os.path.exists(directory):\n",
    "        if np.size(os.listdir(directory)) < 150:\n",
    "            more_random_v_stream = 150 - np.size(os.listdir(directory))\n",
    "            print(\"{} more_random_v_streams will be generated for m_chi = {} GeV.\".format(more_random_v_stream, m_chi))\n",
    "        else:\n",
    "            more_random_v_stream = 0\n",
    "            print(\"Adequate files already exist for m_chi = {} GeV. No more random v_streams to be generated.\".format(m_chi))\n",
    "    else:\n",
    "        more_random_v_stream = 150\n",
    "        print(\"{} more random v_streams will be generated for m_chi = {} GeV.\".format(more_random_v_stream, m_chi))\n",
    "    \n",
    "    z_array, dTb_averaged, m_chi = average_dTb(m_chi=m_chi, more_random_v_stream=more_random_v_stream, mpi=1)\n",
    "    \n",
    "    dTb = np.interp(z, z_array, dTb_averaged)\n",
    "    return dTb"
   ]
  },
  {
   "cell_type": "code",
   "execution_count": 14,
   "id": "2d39c329-2a9b-4a87-9ec3-cc4a859b4c19",
   "metadata": {},
   "outputs": [
    {
     "name": "stdout",
     "output_type": "stream",
     "text": [
      "Adequate files already exist for m_chi = 0.35 GeV. No more random v_streams to be generated.\n",
      "Preprocessing 150 files of dTb for m_chi = 0.35 GeV...\n",
      "150 files have been interpolated.\n",
      "---------------------------------------------\n"
     ]
    }
   ],
   "source": [
    "z_sample = np.arange(10, 300, 5)\n",
    "\n",
    "theta_true = [0.35]\n",
    "dTb_accurate = dTb(theta_true, z_sample)\n",
    "\n",
    "noise = 5\n",
    "dTb_sample = dTb_accurate + noise * np.random.normal(size = z_sample.shape[0])"
   ]
  },
  {
   "cell_type": "code",
   "execution_count": 16,
   "id": "f85fb443-c207-4d04-83b9-e0655501cf0f",
   "metadata": {},
   "outputs": [
    {
     "data": {
      "text/plain": [
       "(-60.0, 0.0)"
      ]
     },
     "execution_count": 16,
     "metadata": {},
     "output_type": "execute_result"
    },
    {
     "data": {
      "image/png": "[encoded data removed]",
      "text/plain": [
       "<Figure size 432x288 with 1 Axes>"
      ]
     },
     "metadata": {
      "needs_background": "light"
     },
     "output_type": "display_data"
    }
   ],
   "source": [
    "plt.plot(z_sample, dTb_sample)\n",
    "plt.plot(z_sample, dTb_accurate)\n",
    "plt.plot(sim.history['z'], sim.history['dTb'])\n",
    "plt.xlim(0,300)\n",
    "plt.ylim(-60,0)"
   ]
  },
  {
   "cell_type": "code",
   "execution_count": 17,
   "id": "e330f4dc-ad74-486a-ad7a-ef9a9223dfe8",
   "metadata": {},
   "outputs": [],
   "source": [
    "def fun(theta):\n",
    "    residual = abs(dTb(theta, z_sample) - dTb_sample)\n",
    "    return residual"
   ]
  },
  {
   "cell_type": "code",
   "execution_count": 18,
   "id": "d2bc0af5-b104-42f7-b274-11bb431d9e74",
   "metadata": {},
   "outputs": [
    {
     "name": "stdout",
     "output_type": "stream",
     "text": [
      "Adequate files already exist for m_chi = 0.1 GeV. No more random v_streams to be generated.\n",
      "Preprocessing 182 files of dTb for m_chi = 0.1 GeV...\n",
      "182 files have been interpolated.\n",
      "---------------------------------------------\n",
      "Adequate files already exist for m_chi = 0.2 GeV. No more random v_streams to be generated.\n",
      "Preprocessing 150 files of dTb for m_chi = 0.2 GeV...\n",
      "150 files have been interpolated.\n",
      "---------------------------------------------\n",
      "Adequate files already exist for m_chi = 0.2 GeV. No more random v_streams to be generated.\n",
      "Preprocessing 150 files of dTb for m_chi = 0.2 GeV...\n",
      "150 files have been interpolated.\n",
      "---------------------------------------------\n",
      "Adequate files already exist for m_chi = 0.30000000000000004 GeV. No more random v_streams to be generated.\n",
      "Preprocessing 150 files of dTb for m_chi = 0.30000000000000004 GeV...\n",
      "150 files have been interpolated.\n",
      "---------------------------------------------\n",
      "Adequate files already exist for m_chi = 0.3533040117921339 GeV. No more random v_streams to be generated.\n",
      "Preprocessing 150 files of dTb for m_chi = 0.3533040117921339 GeV...\n",
      "150 files have been interpolated.\n",
      "---------------------------------------------\n",
      "Adequate files already exist for m_chi = 0.45330401179213387 GeV. No more random v_streams to be generated.\n",
      "Preprocessing 150 files of dTb for m_chi = 0.45330401179213387 GeV...\n",
      "150 files have been interpolated.\n",
      "---------------------------------------------\n",
      "150 more random v_streams will be generated for m_chi = 0.33132146547542757 GeV.\n",
      "dark_matter_mass = 0.33132146547542757 GeV\n",
      "32 cores working...\n",
      "pid = 76664, initial_v_stream = 30341.065515376104 m/s\n",
      "pid = 76663, initial_v_stream = 27579.166220379582 m/s\n",
      "pid = 76662, initial_v_stream = 31251.53071597725 m/s\n",
      "pid = 76669, initial_v_stream = 29587.932157411884 m/s\n",
      "pid = 76666, initial_v_stream = 9555.014175759417 m/s\n",
      "pid = 76673, initial_v_stream = 20317.952705878542 m/s\n",
      "pid = 76675, initial_v_stream = 43984.85711389912 m/s\n",
      "pid = 76676, initial_v_stream = 23959.262481055655 m/s\n",
      "pid = 76665, initial_v_stream = 48632.195473079315 m/s\n",
      "pid = 76667, initial_v_stream = 13102.102671437458 m/s\n",
      "pid = 76680, initial_v_stream = 25312.626082118833 m/s\n",
      "pid = 76668, initial_v_stream = 31165.323644245105 m/s\n",
      "pid = 76679, initial_v_stream = 43599.609817533696 m/s\n",
      "pid = 76686, initial_v_stream = 46271.208738571724 m/s\n",
      "pid = 76671, initial_v_stream = 14614.47839901974 m/s\n",
      "pid = 76687, initial_v_stream = 32715.198271333604 m/s\n",
      "pid = 76684, initial_v_stream = 26792.178121591864 m/s\n",
      "pid = 76692, initial_v_stream = 26358.649433250717 m/s\n",
      "pid = 76683, initial_v_stream = 22013.53691787308 m/s\n",
      "pid = 76678, initial_v_stream = 16048.968055068715 m/s\n",
      "pid = 76674, initial_v_stream = 36611.7005497489 m/s\n",
      "pid = 76672, initial_v_stream = 32152.1437097912 m/s\n",
      "pid = 76677, initial_v_stream = 13827.46790424723 m/s\n",
      "pid = 76689, initial_v_stream = 10245.93406069608 m/s\n",
      "pid = 76690, initial_v_stream = 34414.50906464681 m/s\n",
      "pid = 76682, initial_v_stream = 23572.48101037168 m/s\n",
      "pid = 76670, initial_v_stream = 15585.599750043848 m/s\n",
      "pid = 76685, initial_v_stream = 19823.52910389892 m/s\n",
      "pid = 76688, initial_v_stream = 20851.620970153806 m/s\n",
      "pid = 76681, initial_v_stream = 46395.35101218558 m/s\n",
      "pid = 76693, initial_v_stream = 24476.457922901634 m/s\n",
      "pid = 76691, initial_v_stream = 22743.014600811486 m/s"
     ]
    },
    {
     "name": "stderr",
     "output_type": "stream",
     "text": [
      "/usr/local/pace-apps/manual/packages/anaconda3/2022.05/lib/python3.9/site-packages/scipy/integrate/_ode.py:1350: UserWarning: lsoda: Excess work done on this call (perhaps wrong Dfun type).\n",
      "  warnings.warn('{:s}: {:s}'.format(self.__class__.__name__,\n",
      "/usr/local/pace-apps/manual/packages/anaconda3/2022.05/lib/python3.9/site-packages/scipy/integrate/_ode.py:1350: UserWarning: lsoda: Excess work done on this call (perhaps wrong Dfun type).\n",
      "  warnings.warn('{:s}: {:s}'.format(self.__class__.__name__,\n",
      "/usr/local/pace-apps/manual/packages/anaconda3/2022.05/lib/python3.9/site-packages/scipy/integrate/_ode.py:1350: UserWarning: lsoda: Excess work done on this call (perhaps wrong Dfun type).\n",
      "  warnings.warn('{:s}: {:s}'.format(self.__class__.__name__,\n"
     ]
    },
    {
     "name": "stdout",
     "output_type": "stream",
     "text": [
      "\n",
      "pid = 76673, initial_v_stream = 14839.245086592982 m/s\n",
      "pid = 76688, initial_v_stream = 24897.418497204595 m/s\n",
      "pid = 76664, initial_v_stream = 41081.69049204925 m/s\n",
      "pid = 76667, initial_v_stream = 30034.765231124606 m/s\n",
      "pid = 76684, initial_v_stream = 25438.71766578866 m/s\n",
      "pid = 76677, initial_v_stream = 28417.058970610728 m/s\n",
      "pid = 76666, initial_v_stream = 20504.862883205606 m/s\n",
      "pid = 76689, initial_v_stream = 20046.537968571145 m/s\n",
      "pid = 76687, initial_v_stream = 30860.166143029724 m/s\n",
      "pid = 76670, initial_v_stream = 29339.29511268937 m/s\n",
      "pid = 76682, initial_v_stream = 28087.13424326276 m/s\n",
      "pid = 76690, initial_v_stream = 23835.096457198266 m/s\n",
      "pid = 76675, initial_v_stream = 26903.59318934658 m/s\n",
      "pid = 76681, initial_v_stream = 15343.229948353577 m/s\n",
      "pid = 76683, initial_v_stream = 21491.616244460525 m/s\n",
      "pid = 76665, initial_v_stream = 9194.054821366683 m/s\n",
      "pid = 76663, initial_v_stream = 38310.38840565166 m/s"
     ]
    },
    {
     "name": "stderr",
     "output_type": "stream",
     "text": [
      "/usr/local/pace-apps/manual/packages/anaconda3/2022.05/lib/python3.9/site-packages/scipy/integrate/_ode.py:1350: UserWarning: lsoda: Excess work done on this call (perhaps wrong Dfun type).\n",
      "  warnings.warn('{:s}: {:s}'.format(self.__class__.__name__,\n"
     ]
    },
    {
     "name": "stdout",
     "output_type": "stream",
     "text": [
      "\n",
      "pid = 76680, initial_v_stream = 27847.77344810294 m/s\n",
      "pid = 76674, initial_v_stream = 34664.06161443029 m/s\n",
      "pid = 76685, initial_v_stream = 23612.04414322076 m/s\n",
      "pid = 76668, initial_v_stream = 34443.177608460435 m/s\n",
      "pid = 76662, initial_v_stream = 39962.85621070986 m/s\n",
      "pid = 76669, initial_v_stream = 15166.627708084156 m/s\n",
      "pid = 76691, initial_v_stream = 15647.701820946582 m/s\n",
      "pid = 76671, initial_v_stream = 17946.00287498479 m/s\n",
      "pid = 76678, initial_v_stream = 27826.46542268267 m/s\n",
      "pid = 76676, initial_v_stream = 6320.440370044547 m/s\n",
      "pid = 76672, initial_v_stream = 26659.829934651883 m/s\n",
      "pid = 76692, initial_v_stream = 39646.569674977465 m/s\n",
      "pid = 76693, initial_v_stream = 41822.83926964972 m/s\n",
      "pid = 76686, initial_v_stream = 13740.24362495692 m/s\n",
      "pid = 76679, initial_v_stream = 24613.866813359975 m/s"
     ]
    },
    {
     "name": "stderr",
     "output_type": "stream",
     "text": [
      "/usr/local/pace-apps/manual/packages/anaconda3/2022.05/lib/python3.9/site-packages/scipy/integrate/_ode.py:1350: UserWarning: lsoda: Excess work done on this call (perhaps wrong Dfun type).\n",
      "  warnings.warn('{:s}: {:s}'.format(self.__class__.__name__,\n",
      "/usr/local/pace-apps/manual/packages/anaconda3/2022.05/lib/python3.9/site-packages/scipy/integrate/_ode.py:1350: UserWarning: lsoda: Excess work done on this call (perhaps wrong Dfun type).\n",
      "  warnings.warn('{:s}: {:s}'.format(self.__class__.__name__,\n"
     ]
    },
    {
     "name": "stdout",
     "output_type": "stream",
     "text": [
      "\n",
      "pid = 76667, initial_v_stream = 36967.98210658454 m/s\n",
      "pid = 76688, initial_v_stream = 41717.19283954313 m/s\n",
      "pid = 76666, initial_v_stream = 20918.71284969884 m/s\n",
      "pid = 76664, initial_v_stream = 21962.807028542706 m/s\n",
      "pid = 76689, initial_v_stream = 19918.383868781882 m/s\n",
      "pid = 76677, initial_v_stream = 40139.42735968585 m/s\n",
      "pid = 76684, initial_v_stream = 24082.137598328765 m/s\n",
      "pid = 76687, initial_v_stream = 39343.556886529645 m/s\n",
      "pid = 76670, initial_v_stream = 34154.10077352051 m/s\n",
      "pid = 76682, initial_v_stream = 23982.429175316476 m/s\n",
      "pid = 76690, initial_v_stream = 12379.807669612668 m/s\n",
      "pid = 76675, initial_v_stream = 21873.151426110315 m/s\n",
      "pid = 76681, initial_v_stream = 27271.625023757337 m/s\n",
      "pid = 76683, initial_v_stream = 34407.77204606871 m/s\n",
      "pid = 76665, initial_v_stream = 21501.08243467783 m/s\n",
      "pid = 76673, initial_v_stream = 31232.611216684305 m/s\n",
      "pid = 76674, initial_v_stream = 9526.143341233832 m/s\n",
      "pid = 76680, initial_v_stream = 28025.513654538194 m/s\n",
      "pid = 76685, initial_v_stream = 24747.66286802609 m/s\n",
      "pid = 76668, initial_v_stream = 8889.061071807915 m/s\n",
      "pid = 76671, initial_v_stream = 55214.179224245134 m/s\n",
      "pid = 76676, initial_v_stream = 43690.531404786256 m/s\n",
      "pid = 76669, initial_v_stream = 55435.21942308343 m/s\n",
      "pid = 76662, initial_v_stream = 29643.661793862208 m/s\n",
      "pid = 76678, initial_v_stream = 12840.480096715944 m/s\n",
      "pid = 76672, initial_v_stream = 37995.625685625295 m/s\n",
      "pid = 76692, initial_v_stream = 35301.39504420069 m/s\n",
      "pid = 76686, initial_v_stream = 12592.860128273654 m/s\n",
      "pid = 76693, initial_v_stream = 22321.611165497983 m/s\n",
      "pid = 76663, initial_v_stream = 19403.57438712463 m/s\n",
      "pid = 76691, initial_v_stream = 32378.7122180318 m/s\n",
      "pid = 76679, initial_v_stream = 45022.51081380204 m/s"
     ]
    },
    {
     "name": "stderr",
     "output_type": "stream",
     "text": [
      "/usr/local/pace-apps/manual/packages/anaconda3/2022.05/lib/python3.9/site-packages/scipy/integrate/_ode.py:1350: UserWarning: lsoda: Excess work done on this call (perhaps wrong Dfun type).\n",
      "  warnings.warn('{:s}: {:s}'.format(self.__class__.__name__,\n",
      "/usr/local/pace-apps/manual/packages/anaconda3/2022.05/lib/python3.9/site-packages/scipy/integrate/_ode.py:1350: UserWarning: lsoda: Excess work done on this call (perhaps wrong Dfun type).\n",
      "  warnings.warn('{:s}: {:s}'.format(self.__class__.__name__,\n",
      "/usr/local/pace-apps/manual/packages/anaconda3/2022.05/lib/python3.9/site-packages/scipy/integrate/_ode.py:1350: UserWarning: lsoda: Excess work done on this call (perhaps wrong Dfun type).\n",
      "  warnings.warn('{:s}: {:s}'.format(self.__class__.__name__,\n"
     ]
    },
    {
     "name": "stdout",
     "output_type": "stream",
     "text": [
      "\n",
      "pid = 76667, initial_v_stream = 25855.774792050437 m/s\n",
      "pid = 76664, initial_v_stream = 37475.66915091325 m/s\n",
      "pid = 76689, initial_v_stream = 10945.660119276516 m/s\n",
      "pid = 76688, initial_v_stream = 35109.652241833945 m/s\n",
      "pid = 76684, initial_v_stream = 50005.79746833987 m/s"
     ]
    },
    {
     "name": "stderr",
     "output_type": "stream",
     "text": [
      "/usr/local/pace-apps/manual/packages/anaconda3/2022.05/lib/python3.9/site-packages/scipy/integrate/_ode.py:1350: UserWarning: lsoda: Excess work done on this call (perhaps wrong Dfun type).\n",
      "  warnings.warn('{:s}: {:s}'.format(self.__class__.__name__,\n"
     ]
    },
    {
     "name": "stdout",
     "output_type": "stream",
     "text": [
      "\n",
      "pid = 76670, initial_v_stream = 13755.366163168299 m/s\n",
      "pid = 76677, initial_v_stream = 13091.017371152398 m/s\n",
      "pid = 76681, initial_v_stream = 18036.637356787134 m/s\n",
      "pid = 76683, initial_v_stream = 55683.20533239469 m/s\n",
      "pid = 76687, initial_v_stream = 21258.940367807463 m/s\n",
      "pid = 76678, initial_v_stream = 15781.203304822666 m/s\n",
      "pid = 76682, initial_v_stream = 14396.279732424642 m/s\n",
      "pid = 76666, initial_v_stream = 21380.607458137434 m/s\n",
      "pid = 76675, initial_v_stream = 40743.829396287016 m/s\n",
      "pid = 76676, initial_v_stream = 28688.17814725293 m/s\n",
      "pid = 76692, initial_v_stream = 53766.39396785804 m/s\n",
      "pid = 76669, initial_v_stream = 68019.6200453991 m/s\n",
      "pid = 76690, initial_v_stream = 31055.434236300334 m/s\n",
      "pid = 76665, initial_v_stream = 20067.509032012174 m/s"
     ]
    },
    {
     "name": "stderr",
     "output_type": "stream",
     "text": [
      "/usr/local/pace-apps/manual/packages/anaconda3/2022.05/lib/python3.9/site-packages/scipy/integrate/_ode.py:1350: UserWarning: lsoda: Excess work done on this call (perhaps wrong Dfun type).\n",
      "  warnings.warn('{:s}: {:s}'.format(self.__class__.__name__,\n"
     ]
    },
    {
     "name": "stdout",
     "output_type": "stream",
     "text": [
      "\n",
      "pid = 76668, initial_v_stream = 32296.64882125437 m/s\n",
      "pid = 76685, initial_v_stream = 15616.78417361224 m/s\n",
      "pid = 76673, initial_v_stream = 37830.81830610814 m/s\n",
      "pid = 76662, initial_v_stream = 21723.67619389935 m/s\n",
      "pid = 76693, initial_v_stream = 20559.173208722113 m/s\n",
      "pid = 76671, initial_v_stream = 33340.25531434018 m/s\n",
      "pid = 76674, initial_v_stream = 31974.577066951537 m/s\n",
      "pid = 76672, initial_v_stream = 21211.879622758835 m/s\n",
      "pid = 76680, initial_v_stream = 12472.365679657685 m/s\n",
      "pid = 76686, initial_v_stream = 29098.72016046269 m/s\n",
      "pid = 76691, initial_v_stream = 31902.053588851228 m/s\n",
      "pid = 76663, initial_v_stream = 29624.013161588166 m/s\n",
      "pid = 76679, initial_v_stream = 31073.9721575819 m/s"
     ]
    },
    {
     "name": "stderr",
     "output_type": "stream",
     "text": [
      "/usr/local/pace-apps/manual/packages/anaconda3/2022.05/lib/python3.9/site-packages/scipy/integrate/_ode.py:1350: UserWarning: lsoda: Excess work done on this call (perhaps wrong Dfun type).\n",
      "  warnings.warn('{:s}: {:s}'.format(self.__class__.__name__,\n"
     ]
    },
    {
     "name": "stdout",
     "output_type": "stream",
     "text": [
      "\n",
      "pid = 76667, initial_v_stream = 27610.08777317547 m/s\n",
      "pid = 76689, initial_v_stream = 25380.945929740516 m/s\n",
      "pid = 76688, initial_v_stream = 27762.374873263077 m/s\n",
      "pid = 76677, initial_v_stream = 22213.95797140004 m/s\n",
      "pid = 76670, initial_v_stream = 41952.83929590424 m/s\n",
      "pid = 76684, initial_v_stream = 40379.36413044991 m/s\n",
      "pid = 76681, initial_v_stream = 39885.468370005634 m/s\n",
      "pid = 76687, initial_v_stream = 28818.106019952906 m/s\n",
      "pid = 76666, initial_v_stream = 8788.460907610566 m/s\n",
      "pid = 76678, initial_v_stream = 15295.878312588995 m/s\n",
      "pid = 76682, initial_v_stream = 21618.396663952306 m/s"
     ]
    },
    {
     "name": "stderr",
     "output_type": "stream",
     "text": [
      "/usr/local/pace-apps/manual/packages/anaconda3/2022.05/lib/python3.9/site-packages/scipy/integrate/_ode.py:1350: UserWarning: lsoda: Excess work done on this call (perhaps wrong Dfun type).\n",
      "  warnings.warn('{:s}: {:s}'.format(self.__class__.__name__,\n",
      "/usr/local/pace-apps/manual/packages/anaconda3/2022.05/lib/python3.9/site-packages/scipy/integrate/_ode.py:1350: UserWarning: lsoda: Excess work done on this call (perhaps wrong Dfun type).\n",
      "  warnings.warn('{:s}: {:s}'.format(self.__class__.__name__,\n"
     ]
    },
    {
     "name": "stdout",
     "output_type": "stream",
     "text": [
      "\n",
      "pid = 76667, initial_v_stream = 22173.33363765678 m/s\n",
      "pid = 76688, initial_v_stream = 23721.541999960886 m/s\n",
      "pid = 76670, initial_v_stream = 58163.24877853353 m/s\n",
      "pid = 76687, initial_v_stream = 46410.88580466961 m/s\n",
      "pid = 76681, initial_v_stream = 19987.214679987563 m/s\n",
      "pid = 76684, initial_v_stream = 24448.856175857858 m/s\n",
      "pid = 76689, initial_v_stream = 27631.554720272856 m/s\n",
      "pid = 76678, initial_v_stream = 25674.347301711266 m/s\n",
      "pid = 76666, initial_v_stream = 33245.8143011206 m/s\n",
      "pid = 76682, initial_v_stream = 12713.61537438613 m/s\n",
      "pid = 76677, initial_v_stream = 15845.3686524761 m/s\n",
      "It costs 267.73 seconds to calculate dTb of 150 different initial_v_streams.\n",
      "Preprocessing 150 files of dTb for m_chi = 0.33132146547542757 GeV...\n",
      "150 files have been interpolated.\n",
      "---------------------------------------------\n",
      "Adequate files already exist for m_chi = 0.3478083752129573 GeV. No more random v_streams to be generated.\n",
      "Preprocessing 150 files of dTb for m_chi = 0.3478083752129573 GeV...\n",
      "150 files have been interpolated.\n",
      "---------------------------------------------\n",
      "Adequate files already exist for m_chi = 0.35193010264733976 GeV. No more random v_streams to be generated.\n",
      "Preprocessing 150 files of dTb for m_chi = 0.35193010264733976 GeV...\n",
      "150 files have been interpolated.\n",
      "---------------------------------------------\n",
      "Adequate files already exist for m_chi = 0.35296053450593534 GeV. No more random v_streams to be generated.\n",
      "Preprocessing 150 files of dTb for m_chi = 0.35296053450593534 GeV...\n",
      "150 files have been interpolated.\n",
      "---------------------------------------------\n"
     ]
    }
   ],
   "source": [
    "theta_guess = [0.1]\n",
    "res = least_squares(fun, theta_guess, diff_step=0.1, bounds=(0, 10), xtol=1e-3)"
   ]
  },
  {
   "cell_type": "code",
   "execution_count": 19,
   "id": "ddf7a321-edda-4179-8605-7873b99c1640",
   "metadata": {},
   "outputs": [
    {
     "name": "stdout",
     "output_type": "stream",
     "text": [
      "True\n",
      "3\n"
     ]
    }
   ],
   "source": [
    "print(res.success)\n",
    "print(res.status)"
   ]
  },
  {
   "cell_type": "code",
   "execution_count": 20,
   "id": "0dcbfb2c-bc17-43aa-b360-2a1dee056cad",
   "metadata": {},
   "outputs": [
    {
     "data": {
      "text/plain": [
       "array([0.35330401])"
      ]
     },
     "execution_count": 20,
     "metadata": {},
     "output_type": "execute_result"
    }
   ],
   "source": [
    "res.x"
   ]
  },
  {
   "cell_type": "code",
   "execution_count": 21,
   "id": "4751edd5-2e62-4d50-b22c-f2ccd7c494a0",
   "metadata": {},
   "outputs": [
    {
     "name": "stdout",
     "output_type": "stream",
     "text": [
      "Adequate files already exist for m_chi = 0.3533040117921339 GeV. No more random v_streams to be generated.\n",
      "Preprocessing 150 files of dTb for m_chi = 0.3533040117921339 GeV...\n",
      "150 files have been interpolated.\n",
      "---------------------------------------------\n"
     ]
    },
    {
     "data": {
      "text/plain": [
       "<matplotlib.legend.Legend at 0x2aaaeede7fd0>"
      ]
     },
     "execution_count": 21,
     "metadata": {},
     "output_type": "execute_result"
    },
    {
     "data": {
      "image/png": "[encoded data removed]",
      "text/plain": [
       "<Figure size 432x288 with 1 Axes>"
      ]
     },
     "metadata": {
      "needs_background": "light"
     },
     "output_type": "display_data"
    }
   ],
   "source": [
    "plt.plot(z_sample, dTb_sample, label='sample')\n",
    "plt.plot(z_sample, dTb_accurate, label = 'true')\n",
    "plt.plot(z_sample, dTb(res.x, z_sample), label = 'fit')\n",
    "plt.plot(sim.history['z'], sim.history['dTb'], label = 'default')\n",
    "plt.xlim(0,300)\n",
    "plt.ylim(-60,0)\n",
    "plt.legend()"
   ]
  },
  {
   "cell_type": "code",
   "execution_count": null,
   "id": "868f40f9",
   "metadata": {},
   "outputs": [],
   "source": [
    "plt.plot(z_sample, dTb_sample, label='sample')\n",
    "plt.plot(z_sample, dTb_accurate, label = 'true')\n",
    "plt.plot(z_sample, dTb([0.40], z_sample), label = 'fit')\n",
    "# plt.plot(sim.history['z'], sim.history['dTb'], label = 'default')\n",
    "plt.xlim(0,300)\n",
    "plt.ylim(-60,0)\n",
    "plt.legend()"
   ]
  },
  {
   "cell_type": "code",
   "execution_count": null,
   "id": "a694b183",
   "metadata": {},
   "outputs": [
    {
     "name": "stdout",
     "output_type": "stream",
     "text": [
      "136 more_random_v_streams will be generated for m_chi = 0.55 GeV.\n",
      "dark_matter_mass = 0.55 GeV\n",
      "initial_v_stream = 40056.08197639586 m/s"
     ]
    },
    {
     "name": "stderr",
     "output_type": "stream",
     "text": [
      "/usr/local/pace-apps/manual/packages/anaconda3/2022.05/lib/python3.9/site-packages/scipy/integrate/_ode.py:1350: UserWarning: lsoda: Excess work done on this call (perhaps wrong Dfun type).\n",
      "  warnings.warn('{:s}: {:s}'.format(self.__class__.__name__,\n"
     ]
    },
    {
     "name": "stdout",
     "output_type": "stream",
     "text": [
      "\n",
      "initial_v_stream = 2.3161696879510877e+04 m/s\n",
      "initial_v_stream = 2.6399741865664782e+04 m/s\n",
      "initial_v_stream = 2.2351595800868352e+04 m/s\n",
      "initial_v_stream = 1.6901936996939297e+04 m/s\n",
      "initial_v_stream = 1.1120796380308999e+04 m/s\n",
      "initial_v_stream = 1.4528398394095593e+04 m/s\n",
      "initial_v_stream = 2.6336955900978748e+04 m/s\n",
      "initial_v_stream = 4.128159570500891e+04 m/s\n",
      "initial_v_stream = 3.020272184909218e+04 m/s\n",
      "initial_v_stream = 3.2547610023199286e+04 m/s\n",
      "initial_v_stream = 1.6059844021282654e+04 m/s\n",
      "initial_v_stream = 3.405520097718784e+04 m/s\n",
      "initial_v_stream = 2.1148058350180636e+04 m/s\n",
      "initial_v_stream = 2.3257489489427295e+04 m/s\n",
      "initial_v_stream = 3.629629161068925e+04 m/s\n",
      "initial_v_stream = 3.343129657976316e+04 m/s\n",
      "initial_v_stream = 3.2010255483280158e+04 m/s\n",
      "initial_v_stream = 7.376273080777645e+03 m/s\n",
      "initial_v_stream = 2.1032427305793113e+04 m/s\n",
      "initial_v_stream = 2.5995140512178794e+04 m/s\n",
      "initial_v_stream = 8.968863893924836e+03 m/s\n",
      "initial_v_stream = 2.16005553071537e+04 m/s\n",
      "initial_v_stream = 2.7936961565285103e+04 m/s\n",
      "initial_v_stream = 8.342307718878514e+03 m/s\n",
      "initial_v_stream = 2.6454203457756565e+04 m/s\n",
      "initial_v_stream = 3.652108552253014e+04 m/s\n",
      "initial_v_stream = 2.2702988025897335e+04 m/s\n",
      "initial_v_stream = 2.0091759091742962e+04 m/s\n",
      "initial_v_stream = 4.730196409008274e+04 m/s\n",
      "initial_v_stream = 2.5036093574789465e+04 m/s\n",
      "initial_v_stream = 1.340045214747212e+04 m/s\n",
      "initial_v_stream = 4.454843446287315e+04 m/s\n",
      "initial_v_stream = 1.0400264860005333e+04 m/s\n",
      "initial_v_stream = 3.377523041352043e+04 m/s\n",
      "initial_v_stream = 2.2011394303874014e+04 m/s\n",
      "initial_v_stream = 1.8516739444580344e+04 m/s\n",
      "initial_v_stream = 3.057613787826321e+04 m/s\n",
      "initial_v_stream = 2.8463308003934715e+04 m/s\n",
      "initial_v_stream = 2.395991995197249e+04 m/s\n",
      "initial_v_stream = 2.2156331587751276e+04 m/s\n",
      "initial_v_stream = 5.141945829210444e+04 m/s\n",
      "initial_v_stream = 3.8012520436181076e+04 m/s\n",
      "initial_v_stream = 3.497438475440772e+04 m/s\n",
      "initial_v_stream = 3.305049619142651e+04 m/s\n",
      "initial_v_stream = 3.62250504731823e+04 m/s\n",
      "initial_v_stream = 1.9015743198992575e+04 m/s\n",
      "initial_v_stream = 4.036346704264417e+04 m/s\n",
      "initial_v_stream = 2.3254991584583884e+04 m/s\n",
      "initial_v_stream = 4.3231031618255896e+04 m/s\n",
      "initial_v_stream = 3.2521933344018467e+04 m/s\n",
      "initial_v_stream = 2.741471621338e+04 m/s\n",
      "initial_v_stream = 3.5859114399948085e+04 m/s\n",
      "initial_v_stream = 8.225906479703744e+03 m/s\n",
      "initial_v_stream = 3.0726443353129052e+04 m/s\n",
      "initial_v_stream = 2.1076396316120434e+04 m/s\n",
      "initial_v_stream = 2.1300997609876897e+04 m/s\n",
      "initial_v_stream = 3.7281698680237074e+04 m/s\n",
      "initial_v_stream = 1.4929436413237449e+04 m/s\n",
      "initial_v_stream = 2.1975762518864958e+04 m/s"
     ]
    }
   ],
   "source": [
    "# plt.plot(z_sample, dTb_sample, label='sample')\n",
    "# plt.plot(z_sample, dTb_accurate, label = 'true')\n",
    "plt.figure(dpi=300)\n",
    "z_sample = np.arange(10, 300, 5)\n",
    "# plt.plot(z_sample, dTb([0.59], z_sample), label = '59')\n",
    "plt.plot(z_sample, dTb([0.55], z_sample), label = '55')\n",
    "plt.plot(z_sample, dTb([0.57], z_sample), label = '57')\n",
    "plt.plot(z_sample, dTb([0.59], z_sample), label = '59')\n",
    "# plt.plot(sim.history['z'], sim.history['dTb'], label = 'default')\n",
    "plt.xlim(0,300)\n",
    "plt.ylim(-60,0)\n",
    "plt.legend()"
   ]
  }
 ],
 "metadata": {
  "kernelspec": {
   "display_name": "Python 3 (ipykernel)",
   "language": "python",
   "name": "python3"
  },
  "language_info": {
   "codemirror_mode": {
    "name": "ipython",
    "version": 3
   },
   "file_extension": ".py",
   "mimetype": "text/x-python",
   "name": "python",
   "nbconvert_exporter": "python",
   "pygments_lexer": "ipython3",
   "version": "3.9.12"
  }
 },
 "nbformat": 4,
 "nbformat_minor": 5
}
