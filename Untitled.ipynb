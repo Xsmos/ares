{
 "cells": [
  {
   "cell_type": "code",
   "execution_count": 1,
   "id": "056e0aed-0564-462f-9411-5ba65fd36234",
   "metadata": {},
   "outputs": [],
   "source": [
    "import ares"
   ]
  },
  {
   "cell_type": "code",
   "execution_count": 2,
   "id": "ea583292-32cd-4c47-af8d-bb0579eb6956",
   "metadata": {},
   "outputs": [],
   "source": [
    "import matplotlib.pyplot as plt"
   ]
  },
  {
   "cell_type": "code",
   "execution_count": 12,
   "id": "63072445-1a9f-4dcf-aaff-f587c5fa7759",
   "metadata": {},
   "outputs": [
    {
     "name": "stdout",
     "output_type": "stream",
     "text": [
      "# Loaded $ARES/input/inits/inits_planck_TTTEEE_lowl_lowE_best.txt.\n",
      "\n",
      "############################################################################\n",
      "##                       ARES Simulation: Overview                        ##\n",
      "############################################################################\n",
      "## ---------------------------------------------------------------------- ##\n",
      "## Source Populations                                                     ##\n",
      "## ---------------------------------------------------------------------- ##\n",
      "##           sfrd    sed  radio  O/IR  Lya    LW   LyC   Xray  RTE        ##\n",
      "## pop #0 :  fcoll    yes    -     -     x     -     -     -     -        ##\n",
      "## pop #1 : sfrd->0   yes    -     -     -     -     -     x     -        ##\n",
      "## pop #2 : sfrd->0   yes    -     -     -     -     x     -     -        ##\n",
      "## ---------------------------------------------------------------------- ##\n",
      "## Physics                                                                ##\n",
      "## ---------------------------------------------------------------------- ##\n",
      "## cgm_initial_temperature        : [10000.0]                             ##\n",
      "## clumping_factor                : 1                                     ##\n",
      "## secondary_ionization           : 1                                     ##\n",
      "## approx_Salpha                  : 1                                     ##\n",
      "## include_He                     : False                                 ##\n",
      "## feedback_LW                    : False                                 ##\n",
      "############################################################################\n"
     ]
    }
   ],
   "source": [
    "sim = ares.simulations.Global21cm(radiative_transfer=False, dark_matter_heating=True, initial_redshift=1010, include_cgm=False, initial_v_stream=1)"
   ]
  },
  {
   "cell_type": "code",
   "execution_count": 13,
   "id": "1e76d379-a469-4fdc-ba89-9a2faa4d0e35",
   "metadata": {},
   "outputs": [
    {
     "name": "stdout",
     "output_type": "stream",
     "text": [
      "# Loaded $ARES/input/hmf/hmf_ST_planck_TTTEEE_lowl_lowE_best_logM_1400_4-18_z_1201_0-60.hdf5.\n"
     ]
    }
   ],
   "source": [
    "sim.run()"
   ]
  },
  {
   "cell_type": "code",
   "execution_count": 15,
   "id": "62569117-fd17-4a3e-8531-11816ac4f523",
   "metadata": {},
   "outputs": [
    {
     "data": {
      "image/png": "[encoded data removed]",
      "text/plain": [
       "<Figure size 432x288 with 1 Axes>"
      ]
     },
     "metadata": {
      "needs_background": "light"
     },
     "output_type": "display_data"
    }
   ],
   "source": [
    "plt.plot(sim.history['z'], sim.history['igm_Tk'], label='Tk')\n",
    "plt.plot(sim.history['z'], sim.history['igm_Tchi'], label='Tchi')\n",
    "plt.xscale('log')\n",
    "plt.yscale('log')\n",
    "plt.xlim(10,1000)\n",
    "plt.ylim(1,1000)\n",
    "plt.legend()\n",
    "plt.show()"
   ]
  },
  {
   "cell_type": "code",
   "execution_count": null,
   "id": "ce2d3195-720d-401b-8c63-97736f5831b6",
   "metadata": {},
   "outputs": [],
   "source": []
  }
 ],
 "metadata": {
  "kernelspec": {
   "display_name": "Python 3 (ipykernel)",
   "language": "python",
   "name": "python3"
  },
  "language_info": {
   "codemirror_mode": {
    "name": "ipython",
    "version": 3
   },
   "file_extension": ".py",
   "mimetype": "text/x-python",
   "name": "python",
   "nbconvert_exporter": "python",
   "pygments_lexer": "ipython3",
   "version": "3.10.6"
  }
 },
 "nbformat": 4,
 "nbformat_minor": 5
}
