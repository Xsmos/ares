{
 "cells": [
  {
   "cell_type": "code",
   "execution_count": 1,
   "id": "ed5fc3aa",
   "metadata": {},
   "outputs": [],
   "source": [
    "import ares\n",
    "import numpy as np\n",
    "import matplotlib.pyplot as plt"
   ]
  },
  {
   "cell_type": "code",
   "execution_count": 2,
   "id": "ce1a0e35",
   "metadata": {},
   "outputs": [
    {
     "name": "stdout",
     "output_type": "stream",
     "text": [
      "# Loaded $ARES/input/inits/inits_planck_TTTEEE_lowl_lowE_best.txt.\n",
      "\n",
      "############################################################################\n",
      "##                       ARES Simulation: Overview                        ##\n",
      "############################################################################\n",
      "## ---------------------------------------------------------------------- ##\n",
      "## Source Populations                                                     ##\n",
      "## ---------------------------------------------------------------------- ##\n",
      "##           sfrd    sed  radio  O/IR  Lya    LW   LyC   Xray  RTE        ##\n",
      "## pop #0 :  fcoll    yes    -     -     x     x     -     -     -        ##\n",
      "## pop #1 : sfrd->0   yes    -     -     -     -     -     x     -        ##\n",
      "## pop #2 : sfrd->0   yes    -     -     -     -     x     -     -        ##\n",
      "## ---------------------------------------------------------------------- ##\n",
      "## Physics                                                                ##\n",
      "## ---------------------------------------------------------------------- ##\n",
      "## cgm_initial_temperature        : [10000.0]                             ##\n",
      "## clumping_factor                : 1                                     ##\n",
      "## secondary_ionization           : 1                                     ##\n",
      "## approx_Salpha                  : 1                                     ##\n",
      "## include_He                     : False                                 ##\n",
      "## feedback_LW                    : False                                 ##\n",
      "############################################################################\n",
      "# Loaded $ARES/input/hmf/hmf_ST_planck_TTTEEE_lowl_lowE_best_logM_1400_4-18_z_1201_0-60.hdf5.\n"
     ]
    }
   ],
   "source": [
    "sim = ares.simulations.Global21cm(dark_matter_heating=False)\n",
    "sim.run()\n",
    "\n",
    "z_history_noDM = sim.history['z']\n",
    "Tk_noDM = sim.history['igm_Tk']"
   ]
  },
  {
   "cell_type": "code",
   "execution_count": 17,
   "id": "4a15bfdd",
   "metadata": {},
   "outputs": [
    {
     "name": "stdout",
     "output_type": "stream",
     "text": [
      "# Loaded $ARES/input/inits/inits_planck_TTTEEE_lowl_lowE_best.txt.\n",
      "\n",
      "############################################################################\n",
      "##                       ARES Simulation: Overview                        ##\n",
      "############################################################################\n",
      "## ---------------------------------------------------------------------- ##\n",
      "## Source Populations                                                     ##\n",
      "## ---------------------------------------------------------------------- ##\n",
      "##           sfrd    sed  radio  O/IR  Lya    LW   LyC   Xray  RTE        ##\n",
      "## pop #0 :  fcoll    yes    -     -     x     x     -     -     -        ##\n",
      "## pop #1 : sfrd->0   yes    -     -     -     -     -     x     -        ##\n",
      "## pop #2 : sfrd->0   yes    -     -     -     -     x     -     -        ##\n",
      "## ---------------------------------------------------------------------- ##\n",
      "## Physics                                                                ##\n",
      "## ---------------------------------------------------------------------- ##\n",
      "## cgm_initial_temperature        : [10000.0]                             ##\n",
      "## clumping_factor                : 1                                     ##\n",
      "## secondary_ionization           : 1                                     ##\n",
      "## approx_Salpha                  : 1                                     ##\n",
      "## include_He                     : False                                 ##\n",
      "## feedback_LW                    : False                                 ##\n",
      "############################################################################\n",
      "# Loaded $ARES/input/hmf/hmf_ST_planck_TTTEEE_lowl_lowE_best_logM_1400_4-18_z_1201_0-60.hdf5.\n"
     ]
    }
   ],
   "source": [
    "sim = ares.simulations.Global21cm(dark_matter_heating=True, initial_redshift = 60, cgm_isothermal = False)\n",
    "sim.run()\n",
    "\n",
    "z_history_DM = sim.history['z']\n",
    "Tk_DM = sim.history['igm_Tk']"
   ]
  },
  {
   "cell_type": "code",
   "execution_count": 18,
   "id": "f2c1bad9",
   "metadata": {},
   "outputs": [
    {
     "data": {
      "image/png": "[encoded data removed]",
      "text/plain": [
       "<Figure size 432x288 with 1 Axes>"
      ]
     },
     "metadata": {
      "needs_background": "light"
     },
     "output_type": "display_data"
    }
   ],
   "source": [
    "plt.plot(z_history_noDM, 2.73*(1+z_history_noDM),\n",
    "         label='Tgamma', c='green', linestyle=':')\n",
    "# plt.plot(sim.history['z'], sim.history['Ts'],\n",
    "#          label='Ts', c='black', linestyle='-')\n",
    "plt.plot(z_history_noDM, Tk_noDM,\n",
    "         label='igm_Tk', c='black', linestyle='-')\n",
    "# plt.plot(sim.history['z'], sim.history['cgm_Tk'], label='cgm_Tk', c = 'black', linestyle = '-.')\n",
    "\n",
    "# if sim.pf[\"dark_matter_heating\"]:\n",
    "#     plt.plot(sim.history['z'], sim.history['Tchi'], label='Tchi')\n",
    "\n",
    "# plt.plot(sim.history['z'], sim.history['Ts'],\n",
    "#          label='Ts', c='blue', linestyle='-')\n",
    "plt.plot(z_history_DM, Tk_DM,\n",
    "         label='igm_Tk', c='blue', linestyle='--')\n",
    "\n",
    "if sim.pf[\"dark_matter_heating\"]:\n",
    "    plt.plot(z_history_DM, sim.history['igm_Tchi'], label='igm_Tchi', c = 'b', linestyle='-.')\n",
    "    # plt.plot(sim.history['z'], sim.history['cgm_Tchi'], label='cgm_Tchi', c = 'b', linestyle=':')\n",
    "\n",
    "plt.title(\"T_k, T_chi, T_gamma vs. redshift\")\n",
    "plt.xlabel(\"z\")\n",
    "plt.ylabel(r\"$T$ (mK)\")\n",
    "plt.xlim(10, 1000)\n",
    "plt.ylim(1, 2000)\n",
    "plt.xscale(\"log\")\n",
    "plt.yscale(\"log\")\n",
    "plt.legend()\n",
    "plt.show()"
   ]
  },
  {
   "cell_type": "code",
   "execution_count": 19,
   "id": "9cbec658",
   "metadata": {},
   "outputs": [
    {
     "name": "stdout",
     "output_type": "stream",
     "text": [
      "2582\n",
      "2588\n"
     ]
    }
   ],
   "source": [
    "print(len(z_history_DM))\n",
    "print(len(z_history_noDM))"
   ]
  },
  {
   "cell_type": "code",
   "execution_count": 28,
   "id": "19ef98aa",
   "metadata": {},
   "outputs": [
    {
     "data": {
      "image/png": "[encoded data removed]",
      "text/plain": [
       "<Figure size 432x288 with 1 Axes>"
      ]
     },
     "metadata": {
      "needs_background": "light"
     },
     "output_type": "display_data"
    }
   ],
   "source": [
    "# plt.plot(sim.history['z'], sim.history['igm_e'], label = 'igm_e')\n",
    "plt.plot(sim.history['z'], sim.history['cgm_e'], label = 'cgm_e')\n",
    "plt.yscale('log')\n",
    "plt.xscale(\"log\")\n",
    "plt.legend()\n",
    "plt.show()"
   ]
  },
  {
   "cell_type": "code",
   "execution_count": 37,
   "id": "33e133d2",
   "metadata": {},
   "outputs": [
    {
     "name": "stdout",
     "output_type": "stream",
     "text": [
      "igm_e_max = 1.0817509\n",
      "cgm_xe_initial = 1e-08\n",
      "size = 2582\n",
      "2581\n",
      "None\n"
     ]
    }
   ],
   "source": [
    "igm_e_max = sim.history['igm_e'].max()\n",
    "print('igm_e_max =', igm_e_max)\n",
    "\n",
    "print('cgm_xe_initial =', sim.history['cgm_e'][0])\n",
    "\n",
    "print('size =', sim.history['igm_e'].size)\n",
    "xe_history = sim.history['igm_e'][1::]-sim.history['igm_e'][0:-1:1]\n",
    "print(xe_history.size)\n",
    "\n",
    "# print(sim.history['igm_dqdt'])\n"
   ]
  },
  {
   "cell_type": "code",
   "execution_count": 30,
   "id": "145da890",
   "metadata": {},
   "outputs": [
    {
     "name": "stdout",
     "output_type": "stream",
     "text": [
      "[1.00000000e+00 1.00000000e+00 1.00000000e+00 ... 2.51629403e-38\n",
      " 2.51484634e-38 2.51340071e-38]\n"
     ]
    }
   ],
   "source": [
    "\n",
    "v_stream = sim.history['igm_v_stream']\n",
    "print(v_stream)"
   ]
  },
  {
   "cell_type": "code",
   "execution_count": 22,
   "id": "38f56210",
   "metadata": {},
   "outputs": [
    {
     "data": {
      "image/png": "[encoded data removed]",
      "text/plain": [
       "<Figure size 432x288 with 1 Axes>"
      ]
     },
     "metadata": {
      "needs_background": "light"
     },
     "output_type": "display_data"
    }
   ],
   "source": [
    "plt.plot(sim.history['z'], sim.history['igm_v_stream'], label = 'igm_v_stream')\n",
    "plt.plot(sim.history['z'], sim.history['cgm_v_stream'], label = 'cgm_v_stream')\n",
    "plt.xlabel(\"z\")\n",
    "plt.ylabel(\"v_stream\")\n",
    "plt.xscale(\"log\")\n",
    "plt.legend()\n",
    "plt.show()"
   ]
  },
  {
   "cell_type": "code",
   "execution_count": null,
   "id": "42afcd5b",
   "metadata": {},
   "outputs": [],
   "source": []
  }
 ],
 "metadata": {
  "kernelspec": {
   "display_name": "base",
   "language": "python",
   "name": "python3"
  },
  "language_info": {
   "codemirror_mode": {
    "name": "ipython",
    "version": 3
   },
   "file_extension": ".py",
   "mimetype": "text/x-python",
   "name": "python",
   "nbconvert_exporter": "python",
   "pygments_lexer": "ipython3",
   "version": "3.7.6"
  },
  "vscode": {
   "interpreter": {
    "hash": "cb37479eb4a3ef9a74960d0dc4464894b22d75ae42aeaf49faaa62b1251a0289"
   }
  }
 },
 "nbformat": 4,
 "nbformat_minor": 5
}
