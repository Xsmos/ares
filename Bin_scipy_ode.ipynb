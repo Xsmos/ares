{
 "cells": [
  {
   "cell_type": "code",
   "execution_count": 30,
   "id": "df55e0df-4d43-4e3b-8785-964e30cec29b",
   "metadata": {},
   "outputs": [],
   "source": [
    "from scipy.integrate import ode"
   ]
  },
  {
   "cell_type": "code",
   "execution_count": 31,
   "id": "f38b6305-53f3-4a74-b1ee-5ff5bf57c2e8",
   "metadata": {},
   "outputs": [
    {
     "name": "stdout",
     "output_type": "stream",
     "text": [
      "t = 0.0\n",
      "v = [0.]\n",
      "t = 31557600.000000004\n",
      "v = [0.]\n",
      "t = 63115200.00000001\n",
      "v = [0.]\n",
      "t = 315639115200.00006\n",
      "v = [0.]\n"
     ]
    },
    {
     "data": {
      "text/plain": [
       "array([0.])"
      ]
     },
     "execution_count": 31,
     "metadata": {},
     "output_type": "execute_result"
    }
   ],
   "source": [
    "def RateEquations(t,v):\n",
    "    D = 0\n",
    "    dvdt = - 3.941261329883112e-14 * v + D\n",
    "    print('t =', t)\n",
    "    print('v =', v)\n",
    "    return dvdt\n",
    "\n",
    "v = 0\n",
    "dt = 315576000000.0\n",
    "\n",
    "solver = ode(RateEquations).set_integrator('lsoda', nsteps=1e4, atol=1e-8, rtol=1e-8)\n",
    "solver._integrator.iwork[2] = -1\n",
    "solver.set_initial_value(v, 0.0)\n",
    "solver.integrate(dt)                                                                     "
   ]
  },
  {
   "cell_type": "code",
   "execution_count": null,
   "id": "aaa7a686-6cfa-4622-b739-cf924e253278",
   "metadata": {},
   "outputs": [],
   "source": []
  },
  {
   "cell_type": "code",
   "execution_count": null,
   "id": "c56495e5-b8fd-4828-a22a-0ae11c6bb4e7",
   "metadata": {},
   "outputs": [],
   "source": []
  }
 ],
 "metadata": {
  "kernelspec": {
   "display_name": "Python 3 (ipykernel)",
   "language": "python",
   "name": "python3"
  },
  "language_info": {
   "codemirror_mode": {
    "name": "ipython",
    "version": 3
   },
   "file_extension": ".py",
   "mimetype": "text/x-python",
   "name": "python",
   "nbconvert_exporter": "python",
   "pygments_lexer": "ipython3",
   "version": "3.9.13"
  }
 },
 "nbformat": 4,
 "nbformat_minor": 5
}
