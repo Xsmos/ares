{
 "cells": [
  {
   "cell_type": "code",
   "execution_count": null,
   "id": "8e2fe318",
   "metadata": {},
   "outputs": [],
   "source": [
    "from fit_param import test"
   ]
  },
  {
   "cell_type": "code",
   "execution_count": null,
   "id": "d390416c",
   "metadata": {},
   "outputs": [],
   "source": [
    "# case 1: dark matter mass m_chi = 0.05 GeV\n",
    "param_fits = test([0.05, 29000], cores=-1, repeat=10, plot=False)"
   ]
  },
  {
   "cell_type": "code",
   "execution_count": null,
   "id": "d11c0071",
   "metadata": {},
   "outputs": [],
   "source": [
    "param_fits"
   ]
  },
  {
   "cell_type": "code",
   "execution_count": null,
   "id": "865f091f",
   "metadata": {},
   "outputs": [],
   "source": [
    "import matplotlib.pyplot as plt\n",
    "plt.imshow(param_fits)\n",
    "# plt.show()"
   ]
  },
  {
   "cell_type": "code",
   "execution_count": null,
   "id": "38fac27f",
   "metadata": {},
   "outputs": [],
   "source": []
  }
 ],
 "metadata": {
  "kernelspec": {
   "display_name": "Python 3 (ipykernel)",
   "language": "python",
   "name": "python3"
  },
  "language_info": {
   "codemirror_mode": {
    "name": "ipython",
    "version": 3
   },
   "file_extension": ".py",
   "mimetype": "text/x-python",
   "name": "python",
   "nbconvert_exporter": "python",
   "pygments_lexer": "ipython3",
   "version": "3.9.13"
  }
 },
 "nbformat": 4,
 "nbformat_minor": 5
}
